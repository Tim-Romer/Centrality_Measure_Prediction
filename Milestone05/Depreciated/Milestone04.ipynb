{
 "cells": [
  {
   "cell_type": "markdown",
   "metadata": {},
   "source": [
    "## Milestone 4:\n",
    "\n",
    "- Please address the comments in your report\n",
    "\n",
    "- Add a figure to illustrate your complete process from data generation to centrality measurement, binarization, balancing, etc...\n",
    "\n",
    "- Provide your results. I added all four of you to Redhawk. Here is some guidance on how to use a cluster set-up in the manner of Redhawk: https://hpcc.usc.edu/support/documentation/running-a-job-on-the-hpcc-cluster-using-pbs/\n",
    "(There is also Redhawk-specific guidance here https://blogs.miamioh.edu/researchcomputing/hpc-cluster/batch/)\n",
    "It is very extremely much much important that you read this guidance before you use the cluster. A cluster consists of a \"head node\" through which users log in, and compute nodes to do operations. By following the guidance, you will perform computations on the compute nodes (fast results, much happiness). If you ignore it, you may be spawning a task on the head node: it isn't ready for that, and it can bring the whole cluster to a halt (users can't access). I've had several students ignore the guidance and compromise the cluster already, which makes the cluster staff very unhappy about it. So the less we trash their cluster, the more likely we are to keep our access to it...\n",
    "\n",
    "- Add a \"literature survey\" subsection (in the background) of about 2 pages single line spacing. The objective of this section is to familiarize yourself with what's already been done in the topic; to convey it to the reader; and to use this information to better frame your own work. Here are a few relevant papers:\n",
    "https://academic.oup.com/comnet/article/1/1/44/509398\n",
    "https://www.sciencedirect.com/science/article/abs/pii/S1476945X07000189\n",
    "http://citeseerx.ist.psu.edu/viewdoc/download?doi=10.1.1.169.2216&rep=rep1&type=pdf\n",
    "https://iopscience.iop.org/article/10.1088/1742-5468/2011/11/P11018/meta\n",
    "https://link.springer.com/article/10.1140/epjb/e2015-50671-y\n",
    "https://ieeexplore.ieee.org/abstract/document/6713749\n",
    "https://arxiv.org/abs/1908.08429\n",
    "https://www.sciencedirect.com/science/article/abs/pii/S0378873316303690\n",
    "https://link.springer.com/chapter/10.1007/978-3-319-18503-3_2\n",
    "https://www.ncbi.nlm.nih.gov/pmc/articles/PMC6660088/\n",
    "There are 4 of you hence I would expect a total of 8 papers to be mentioned. The eight can come from the list above or additional ones that you have found (but in this case I'd prefer to confirm with you first). For each paper you read, please highlight/annotate the PDF as you see fit and submit these edited PDFs. Seeing how you're doing this will allow me to identify any potential issue in your process and hence to give you more process-oriented feedback, rather than just seeing a summary and wondering how you got there.\n",
    "\n",
    "There will also be a very short reflection to fill out online. The link will be sent later. The objective is to think of what you've learned so far, and highlight any area of interest for the last milestone.\n",
    "\n"
   ]
  },
  {
   "cell_type": "markdown",
   "metadata": {},
   "source": [
    "<strong> A lot of the cells in this notebook will be from milestone 3. Any new work that we have done for milestone 4 will be annotated by a comment at the top of the cell or by a header before a new section (all new cells are in Part 3: Model Generation).</strong>"
   ]
  },
  {
   "cell_type": "markdown",
   "metadata": {},
   "source": [
    "# Part 1: Data Generation\n",
    "\n",
    "The five centralities that we will examine first are degree centrality, closeness centrality, betweeness centrality, load flow centrality, and reaching centrality. All of the data for all of the graphs will be loaded into data.csv."
   ]
  },
  {
   "cell_type": "code",
   "execution_count": 1,
   "metadata": {},
   "outputs": [],
   "source": [
    "import pandas as pd\n",
    "import numpy as np\n",
    "import networkx as nx"
   ]
  },
  {
   "cell_type": "code",
   "execution_count": 2,
   "metadata": {},
   "outputs": [],
   "source": [
    "def get_degrees(G):\n",
    "    deg = nx.degree_centrality(G)\n",
    "    deg_df = pd.Series(deg).to_frame()\n",
    "    deg_df.columns = ['Degree']\n",
    "    deg_df['degree_rank'] = deg_df['Degree'].rank(method = 'min', ascending = False)\n",
    "    return deg_df"
   ]
  },
  {
   "cell_type": "code",
   "execution_count": 3,
   "metadata": {},
   "outputs": [],
   "source": [
    "def get_closeness(G):\n",
    "    deg = nx.closeness_centrality(G)\n",
    "    deg_df = pd.Series(deg).to_frame()\n",
    "    deg_df.columns = ['Closeness']\n",
    "    deg_df['closeness_rank'] = deg_df['Closeness'].rank(method = 'min', ascending = False)\n",
    "    return deg_df"
   ]
  },
  {
   "cell_type": "code",
   "execution_count": 4,
   "metadata": {},
   "outputs": [],
   "source": [
    "def get_betweeness(G):\n",
    "    deg = nx.betweenness_centrality(G)\n",
    "    deg_df = pd.Series(deg).to_frame()\n",
    "    deg_df.columns = ['Betweeness']\n",
    "    deg_df['betweeness_rank'] = deg_df['Betweeness'].rank(method = 'min', ascending = False)\n",
    "    return deg_df"
   ]
  },
  {
   "cell_type": "code",
   "execution_count": 5,
   "metadata": {},
   "outputs": [],
   "source": [
    "def get_load_flow(G):\n",
    "    deg = nx.load_centrality(G)\n",
    "    deg_df = pd.Series(deg).to_frame()\n",
    "    deg_df.columns = ['Load']\n",
    "    deg_df['load_rank'] = deg_df['Load'].rank(method = 'min', ascending = False)\n",
    "    return deg_df"
   ]
  },
  {
   "cell_type": "code",
   "execution_count": 6,
   "metadata": {},
   "outputs": [],
   "source": [
    "#MILESTONE 3 - Fixed the copy/paste error from milestone 2\n",
    "\n",
    "def get_local_reaching(G):\n",
    "    deg = {}\n",
    "    for x in range(len(G)): # compute local reach centrality for each node in G\n",
    "        deg[x] = nx.local_reaching_centrality(G, x)\n",
    "    deg_df = pd.Series(deg).to_frame()\n",
    "    deg_df.columns = ['Reaching']\n",
    "    deg_df['reach_rank'] = deg_df['Reaching'].rank(method = 'min', ascending = False)\n",
    "    return deg_df"
   ]
  },
  {
   "cell_type": "code",
   "execution_count": 7,
   "metadata": {},
   "outputs": [],
   "source": [
    "# This is the first new centrality measurement\n",
    "\n",
    "def get_harmonic(G):\n",
    "    deg = nx.harmonic_centrality(G)\n",
    "    deg_df = pd.Series(deg).to_frame()\n",
    "    deg_df.columns = ['Harmonic']\n",
    "    deg_df['harmonic_rank'] = deg_df['Harmonic'].rank(method = 'min', ascending = False)\n",
    "    return deg_df"
   ]
  },
  {
   "cell_type": "code",
   "execution_count": 8,
   "metadata": {},
   "outputs": [],
   "source": [
    "# This is the second centrality measurement\n",
    "\n",
    "def get_page_rank(G):\n",
    "    deg = nx.pagerank_scipy(G)\n",
    "    deg_df = pd.Series(deg).to_frame()\n",
    "    deg_df.columns = ['Page']\n",
    "    deg_df['page_rank'] = deg_df['Page'].rank(method = 'min', ascending = False)\n",
    "    return deg_df"
   ]
  },
  {
   "cell_type": "markdown",
   "metadata": {},
   "source": [
    "Networks and Parameters:\n",
    "\n",
    "|Network Types | Parameter(s) |\n",
    "|--------------|--------------|\n",
    "|scale-free| {size : How many nodes to generate} |\n",
    "|small-world | {size : How many nodes to generate, k : k nearest neighbor in a ring, p : probability of rewiring each edge}|\n",
    "|random | {size : How many nodes to generate, n : number of edges}|\n",
    "|scale-free & small-world |{size : How many nodes to generate, m : number of random edges for each node, p : probability of rewiring each edge} |"
   ]
  },
  {
   "cell_type": "code",
   "execution_count": 9,
   "metadata": {},
   "outputs": [
    {
     "ename": "SyntaxError",
     "evalue": "'return' outside function (<ipython-input-9-397fdb582d2c>, line 5)",
     "output_type": "error",
     "traceback": [
      "\u001b[0;36m  File \u001b[0;32m\"<ipython-input-9-397fdb582d2c>\"\u001b[0;36m, line \u001b[0;32m5\u001b[0m\n\u001b[0;31m    return \"This is a safety line!\"\u001b[0m\n\u001b[0m                                   ^\u001b[0m\n\u001b[0;31mSyntaxError\u001b[0m\u001b[0;31m:\u001b[0m 'return' outside function\n"
     ]
    }
   ],
   "source": [
    "# changed inner-most range to (1,51) to produce 50 networks for each size and type (a 100% increase)\n",
    "# added support for the 2 new centrality measures- harmonics and pageRanks\n",
    "\n",
    "# remove the following safety line to generate new data(running this cell will CLEAR all data, takes ~40 mins to replace)\n",
    "return \"This is a safety line!\"\n",
    "\n",
    "with open('data.csv', 'w') as wr:\n",
    "    # Write the column headers to csv\n",
    "    wr.write('networkType,networkSize,instanceNumber,nodeNumber,degreeRank,closenessRank,betweennessRank,loadRank,reachRank,harmonicRank,pageRank\\n')\n",
    "    networkTypes = ['scale-free', 'small-world', 'random', 'small-world/scale-free'] # networks to add\n",
    "    sizes = [100, 200, 400, 800] # Sizes to add\n",
    "    G = nx.scale_free_graph(100) # Initialization of the graph so the scope of the variable is outside the loops\n",
    "    \n",
    "    for netType in networkTypes: # for each network type\n",
    "        for size in sizes:\n",
    "            for instNum in range(1, 51): # generate 50 networks for each size and each network type\n",
    "                if netType == 'scale-free':\n",
    "                    G = nx.scale_free_graph(size)\n",
    "                elif netType == 'small-world':\n",
    "                    G = nx.watts_strogatz_graph(size, 10, 0.5)\n",
    "                elif netType == 'small-world/scale-free':\n",
    "                    G = nx.powerlaw_cluster_graph(size, 10, 0.5)\n",
    "                else:\n",
    "                    G = nx.gnm_random_graph(size, size * 4)\n",
    "                degree_list = get_degrees(G)\n",
    "                closeness_list = get_closeness(G)\n",
    "                betweeness_list = get_betweeness(G)\n",
    "                load_list = get_load_flow(G)\n",
    "                reach_list = get_local_reaching(G)\n",
    "                harmonic_list = get_harmonic(G)\n",
    "                page_list = get_page_rank(G)\n",
    "                \n",
    "                for node in G.nodes(): # record network properties in csv file\n",
    "                    wr.write(netType + ',' + str(size)+ ',' + str(instNum) + ',')\n",
    "                    wr.write(str(node) + ',' + str(degree_list['degree_rank'][node]) + ',')\n",
    "                    wr.write(str(closeness_list['closeness_rank'][node]) + ',')\n",
    "                    wr.write(str(betweeness_list['betweeness_rank'][node]) + ',')\n",
    "                    wr.write(str(load_list['load_rank'][node]) + ',')\n",
    "                    wr.write(str(reach_list['reach_rank'][node]) + ',')\n",
    "                    wr.write(str(harmonic_list['harmonic_rank'][node]) + ',')\n",
    "                    wr.write(str(page_list['page_rank'][node]) + '\\n')\n",
    "            print('Finished size: ' + str(size))\n",
    "                    "
   ]
  },
  {
   "cell_type": "markdown",
   "metadata": {},
   "source": [
    "In milestone 1, we failed to correctly generate a network that had both the properties of a scale-free & small-world network. After doing research, we came across this research paper: https://www.uvm.edu/pdodds/files/papers/others/2002/holme2002a.pdf . These researchers were able to generate a network that had both of the network properties. Networkx has a function implemented that will generate a random graph with this algorithm and it is demonstrated below."
   ]
  },
  {
   "cell_type": "code",
   "execution_count": 10,
   "metadata": {},
   "outputs": [],
   "source": [
    "G = nx.powerlaw_cluster_graph(100, 3, 0.5)"
   ]
  },
  {
   "cell_type": "code",
   "execution_count": 11,
   "metadata": {},
   "outputs": [
    {
     "name": "stderr",
     "output_type": "stream",
     "text": [
      "/Users/Alex/anaconda3/lib/python3.7/site-packages/networkx/drawing/nx_pylab.py:579: MatplotlibDeprecationWarning: \n",
      "The iterable function was deprecated in Matplotlib 3.1 and will be removed in 3.3. Use np.iterable instead.\n",
      "  if not cb.iterable(width):\n"
     ]
    },
    {
     "data": {
      "image/png": "[encoded data removed]",
      "text/plain": [
       "<Figure size 432x288 with 1 Axes>"
      ]
     },
     "metadata": {},
     "output_type": "display_data"
    }
   ],
   "source": [
    "import matplotlib.pyplot as plt\n",
    "%matplotlib inline\n",
    "pos = nx.spring_layout(G)\n",
    "nx.draw_networkx(G, pos, with_labels=False, node_size=50)"
   ]
  },
  {
   "cell_type": "markdown",
   "metadata": {},
   "source": [
    "### Demonstrating that the powerlaw_cluster_graph is in fact a Scale-Free Small-World Network:"
   ]
  },
  {
   "cell_type": "markdown",
   "metadata": {},
   "source": [
    "<strong> Showing high average clustering:</strong><br>\n",
    "\n",
    "Within the networkx library, there is a function that will calculate the average clustering. We will compare this value with the values of small-world  graphs to show that it closely resembles the small-world clustering."
   ]
  },
  {
   "cell_type": "code",
   "execution_count": 12,
   "metadata": {},
   "outputs": [
    {
     "name": "stdout",
     "output_type": "stream",
     "text": [
      "The average clustering for SF-SW:  0.34261955685169376\n",
      "The average clustering for SW:     0.15123125124101897\n"
     ]
    }
   ],
   "source": [
    "from statistics import mean\n",
    "\n",
    "swsf_clusters = []\n",
    "sw_clusters = []\n",
    "for n in range(100):    \n",
    "    swsf_graph = nx.powerlaw_cluster_graph(100, 10, 0.5)\n",
    "    swsf_clusters.append(nx.average_clustering(swsf_graph))\n",
    "    sw_graph = nx.watts_strogatz_graph(100, 10, 0.5)\n",
    "    sw_clusters.append(nx.average_clustering(sw_graph))\n",
    "    \n",
    "print(\"The average clustering for SF-SW: \", mean(swsf_clusters))\n",
    "print(\"The average clustering for SW:    \", mean(sw_clusters))"
   ]
  },
  {
   "cell_type": "markdown",
   "metadata": {},
   "source": [
    "As you can see from gathering the average clustering for the scale-free small-world network is actually higher than the watts-strogatz graph so the powerlaw_cluster_graph does have the property of high average clustering.<br><br>\n",
    "<strong> Showing low average distance:</strong><br><br>\n",
    "Within the networkx library, there is a function that will calculate the average shortest_path_length. This is a property of the small-world network we will show how the powerlaw_cluster_graph resembles this property."
   ]
  },
  {
   "cell_type": "code",
   "execution_count": 13,
   "metadata": {},
   "outputs": [
    {
     "name": "stdout",
     "output_type": "stream",
     "text": [
      "The average distance for SF-SW:  1.8592949494949496\n",
      "The average distance for SW:     2.2656020202020204\n"
     ]
    }
   ],
   "source": [
    "swsf_dist = []\n",
    "sw_dist = []\n",
    "for n in range(100):    \n",
    "    swsf_graph = nx.powerlaw_cluster_graph(100, 10, 0.5)\n",
    "    sw_graph = nx.watts_strogatz_graph(100, 10, 0.5)\n",
    "    swsf_dist.append(nx.average_shortest_path_length(swsf_graph))\n",
    "    sw_dist.append(nx.average_shortest_path_length(sw_graph))\n",
    "    \n",
    "print(\"The average distance for SF-SW: \", mean(swsf_dist))\n",
    "print(\"The average distance for SW:    \", mean(sw_dist))"
   ]
  },
  {
   "cell_type": "markdown",
   "metadata": {},
   "source": [
    "As you can see from the gathering of shortest average distance for the scale-free small-world network, the powerlaw_cluster_graph outperforms the watts_strogatz graph in having a lower average distance. This should confirm that the powerlaw_cluster_graph has the property of low average distance.<br><br>\n",
    "<strong>Showing power-law degree distribution:</strong><br><br>\n",
    "To show that the powerlaw_cluster_graph as a power-law degree distribution, we will plot a histogram of the degree distribution on a log-log scale and show a good fit for a line."
   ]
  },
  {
   "cell_type": "code",
   "execution_count": 14,
   "metadata": {},
   "outputs": [
    {
     "data": {
      "text/plain": [
       "<matplotlib.axes._subplots.AxesSubplot at 0xa164ae630>"
      ]
     },
     "execution_count": 14,
     "metadata": {},
     "output_type": "execute_result"
    },
    {
     "data": {
      "image/png": "[encoded data removed]",
      "text/plain": [
       "<Figure size 432x288 with 1 Axes>"
      ]
     },
     "metadata": {
      "needs_background": "light"
     },
     "output_type": "display_data"
    }
   ],
   "source": [
    "%matplotlib inline\n",
    "\n",
    "swsf_graph = nx.powerlaw_cluster_graph(1000, 10, 0.5)\n",
    "degree_sequence = sorted([d for n, d in swsf_graph.degree()], reverse=True)\n",
    "degree_sequence = pd.Series(degree_sequence)\n",
    "\n",
    "plt.figure()\n",
    "degree_sequence.plot.hist(bins = 100)"
   ]
  },
  {
   "cell_type": "markdown",
   "metadata": {},
   "source": [
    "The shape of the histogram closely resembles the power law with the raw distribution. The log-log scale of the degree distribution will n ow be examined to show a good fit for the line."
   ]
  },
  {
   "cell_type": "code",
   "execution_count": 15,
   "metadata": {},
   "outputs": [
    {
     "data": {
      "text/plain": [
       "[]"
      ]
     },
     "execution_count": 15,
     "metadata": {},
     "output_type": "execute_result"
    },
    {
     "data": {
      "image/png": "[encoded data removed]",
      "text/plain": [
       "<Figure size 432x288 with 1 Axes>"
      ]
     },
     "metadata": {
      "needs_background": "light"
     },
     "output_type": "display_data"
    }
   ],
   "source": [
    "swsf_graph = nx.powerlaw_cluster_graph(1000, 10, 0.5)\n",
    "degree_sequence = sorted([d for n, d in swsf_graph.degree()], reverse=True)\n",
    "degree_sequence = pd.Series(degree_sequence)\n",
    "\n",
    "plt.figure()\n",
    "hist = degree_sequence.plot.hist(bins = 100)\n",
    "plt.Axes.loglog(hist)"
   ]
  },
  {
   "cell_type": "markdown",
   "metadata": {},
   "source": [
    "The shape of the log-log histogram shows that the data distribution roughly shows a linear shape. This is expected for degree distributions that follow the power law. This effectively shows that the distribution roughly follow the power law and that it has this property. For reference, the distribution for the scale-free network, which does have this property, is shown below."
   ]
  },
  {
   "cell_type": "code",
   "execution_count": 16,
   "metadata": {},
   "outputs": [
    {
     "data": {
      "text/plain": [
       "[]"
      ]
     },
     "execution_count": 16,
     "metadata": {},
     "output_type": "execute_result"
    },
    {
     "data": {
      "image/png": "[encoded data removed]",
      "text/plain": [
       "<Figure size 432x288 with 1 Axes>"
      ]
     },
     "metadata": {
      "needs_background": "light"
     },
     "output_type": "display_data"
    }
   ],
   "source": [
    "sf_graph = nx.scale_free_graph(100)\n",
    "degree_sequence = sorted([d for n, d in sf_graph.degree()], reverse=True)\n",
    "degree_sequence = pd.Series(degree_sequence)\n",
    "\n",
    "plt.figure()\n",
    "hist = degree_sequence.plot.hist(bins = 75)\n",
    "plt.Axes.loglog(hist)"
   ]
  },
  {
   "cell_type": "markdown",
   "metadata": {},
   "source": [
    "As you can see from above, the scale-free small-world graph follows this distribution closer than the scale-free graph which is depicted above."
   ]
  },
  {
   "cell_type": "markdown",
   "metadata": {},
   "source": [
    "<strong>Findings:</strong><br>\n",
    "The powerlaw_cluster_graph embodies all of the qualities that is necessary for it to be a scale-free small world graph. It has all of the properties from both the scale-free network and the small-world network."
   ]
  },
  {
   "cell_type": "markdown",
   "metadata": {},
   "source": [
    "# Part 2: Centrality Correlations"
   ]
  },
  {
   "cell_type": "code",
   "execution_count": 17,
   "metadata": {},
   "outputs": [],
   "source": [
    "import pandas as pd\n",
    "import numpy as np\n",
    "import networkx as nx\n",
    "\n",
    "data = pd.read_csv(\"data.csv\")\n",
    "RND = data.loc[data['networkType'] == 'random']\n",
    "SF = data.loc[data['networkType'] == 'scale-free']\n",
    "SW = data.loc[data['networkType'] == 'small-world']\n",
    "SFSW = data.loc[data['networkType'] == 'small-world/scale-free']"
   ]
  },
  {
   "cell_type": "code",
   "execution_count": 18,
   "metadata": {},
   "outputs": [],
   "source": [
    "allP = data.corr(method ='pearson')\n",
    "allS = data.corr(method='spearman')\n",
    "allK = data.corr(method ='kendall')\n",
    "\n",
    "rndP = RND.corr(method ='pearson')\n",
    "rndS = RND.corr(method ='spearman')\n",
    "rndK = RND.corr(method ='kendall')\n",
    "\n",
    "sfP = SF.corr(method='pearson')\n",
    "sfS = SF.corr(method='spearman')\n",
    "sfK = SF.corr(method='kendall')\n",
    "\n",
    "swP = SW.corr(method='pearson')\n",
    "swS = SW.corr(method='spearman')\n",
    "swK = SW.corr(method='kendall')\n",
    "\n",
    "sfswP = SFSW.corr(method='pearson')\n",
    "sfswS = SFSW.corr(method='spearman')\n",
    "sfswK = SFSW.corr(method='kendall')"
   ]
  },
  {
   "cell_type": "code",
   "execution_count": null,
   "metadata": {},
   "outputs": [],
   "source": [
    "allP.to_csv('pairwise/all-pearson.csv')\n",
    "allS.to_csv('pairwise/all-spearman.csv')\n",
    "allK.to_csv('pairwise/all-kendall.csv')\n",
    "\n",
    "rndP.to_csv('pairwise/rnd-pearson.csv')\n",
    "rndS.to_csv('pairwise/rnd-spearman.csv')\n",
    "rndK.to_csv('pairwise/rnd-kendall.csv')\n",
    "\n",
    "sfP.to_csv('pairwise/sf-pearson.csv')\n",
    "sfS.to_csv('pairwise/sf-spearman.csv')\n",
    "sfK.to_csv('pairwise/sf-kendall.csv')\n",
    "\n",
    "swP.to_csv('pairwise/sw-pearson.csv')\n",
    "swS.to_csv('pairwise/sw-spearman.csv')\n",
    "swK.to_csv('pairwise/sw-kendall.csv')"
   ]
  },
  {
   "cell_type": "code",
   "execution_count": null,
   "metadata": {},
   "outputs": [],
   "source": [
    "sfswP.to_csv('pairwise/sfsw-pearson.csv')\n",
    "sfswS.to_csv('pairwise/sfsw-spearman.csv')\n",
    "sfswK.to_csv('pairwise/sfsw-kendall.csv')"
   ]
  },
  {
   "cell_type": "markdown",
   "metadata": {},
   "source": [
    "### Correlations Heatmap:"
   ]
  },
  {
   "cell_type": "code",
   "execution_count": 20,
   "metadata": {},
   "outputs": [],
   "source": [
    "import pandas as pd\n",
    "df = pd.read_csv('data.csv')"
   ]
  },
  {
   "cell_type": "code",
   "execution_count": 21,
   "metadata": {},
   "outputs": [
    {
     "data": {
      "text/plain": [
       "<matplotlib.axes._subplots.AxesSubplot at 0xa17b05198>"
      ]
     },
     "execution_count": 21,
     "metadata": {},
     "output_type": "execute_result"
    },
    {
     "data": {
      "image/png": "[encoded data removed]",
      "text/plain": [
       "<Figure size 720x720 with 2 Axes>"
      ]
     },
     "metadata": {
      "needs_background": "light"
     },
     "output_type": "display_data"
    }
   ],
   "source": [
    "import seaborn as sns\n",
    "\n",
    "df_corr = df.drop(['instanceNumber', 'nodeNumber', 'networkSize'], axis=1).corr()\n",
    "fig, ax = plt.subplots(figsize=(10,10))\n",
    "sns.heatmap(df_corr, xticklabels=df_corr.columns, yticklabels=df_corr.columns, annot=True, ax=ax)"
   ]
  },
  {
   "cell_type": "markdown",
   "metadata": {},
   "source": [
    "### Correlation Heatmap Results:\n",
    "\n",
    "|Centrality Types | Correlations |\n",
    "|--------------|--------------|\n",
    "|degreeRank|Strongly correlated with page|\n",
    "|closenessRank|Perfectly correlated with harmonic, strongly with betweenness and load|\n",
    "|betweennessRank|Perfectly correlated with load, strongly with page, harmonic, and closeness|\n",
    "|loadRank|Perfectly correlated with betweenness, strongly with page, harmonic, and closeness|\n",
    "|reachRank|No strong correlations, medium-strongly correlated with closeness and harmonic|\n",
    "|harmonicRank|Perfectly correlated with closeness, strongly with betweenness, load, and page|\n",
    "|pageRank|Strongly correlated with betweenness, load, degree, and harmonic|"
   ]
  },
  {
   "cell_type": "markdown",
   "metadata": {},
   "source": [
    "## Part 3: Model Generation"
   ]
  },
  {
   "cell_type": "markdown",
   "metadata": {},
   "source": [
    "### Create Class Outcome Columns:"
   ]
  },
  {
   "cell_type": "code",
   "execution_count": null,
   "metadata": {},
   "outputs": [],
   "source": [
    "scale_free = df.loc[df['networkType'] == 'scale-free'] # add these new fields to the dataframe\n",
    "small_world = df.loc[df['networkType'] == 'small-world']\n",
    "random_data = df.loc[df['networkType'] == 'random']\n",
    "small_world_scale_free = df.loc[df['networkType'] == 'small-world/scale-free']"
   ]
  },
  {
   "cell_type": "code",
   "execution_count": null,
   "metadata": {},
   "outputs": [],
   "source": [
    "# this cell creates a new dictionary with the max ranking node for each network and centrality type\n",
    "def namestr(obj, namespace):\n",
    "    return [name for name in namespace if namespace[name] is obj]\n",
    "\n",
    "dic={}\n",
    "centralities = ['degree', 'closeness', 'betweenness', 'load', 'reach', 'harmonic', 'page']\n",
    "networkTypes = ['scale-free', 'small-world', 'random', 'small-world/scale-free']\n",
    "for network in networkTypes:\n",
    "    dic[network]={}\n",
    "    curNetwork=None\n",
    "    if network=='scale-free':\n",
    "        curNetwork=scale_free\n",
    "    if network=='small-world':\n",
    "        curNetwork=small_world\n",
    "    if network=='random':\n",
    "        curNetwork=random_data\n",
    "    if network=='small-world/scale-free':\n",
    "        curNetwork=small_world_scale_free\n",
    "\n",
    "    for centrality in centralities:\n",
    "        dic[network][centrality]=curNetwork.groupby(['networkSize','instanceNumber'])[centrality +'Rank'].max()"
   ]
  },
  {
   "cell_type": "code",
   "execution_count": null,
   "metadata": {},
   "outputs": [],
   "source": [
    "degreeBinary = [] # create empty lists for adding binary values to dataframe\n",
    "closenessBinary = []\n",
    "betweennessBinary = []\n",
    "loadBinary = []\n",
    "reachBinary = []\n",
    "harmonicBinary = []\n",
    "pageBinary = []\n",
    "\n",
    "for index, row in df.iterrows(): # iterate through all rows of dataframe\n",
    "    \n",
    "    if int(row['degreeRank']) <= int(dic[row['networkType']]['degree'][row['networkSize']][row['instanceNumber']]) / 4: \n",
    "        degreeBinary.append(1) # if the rank is in the top 25%, append 1 to binary list\n",
    "    else:\n",
    "        degreeBinary.append(0) # else, append a 0\n",
    "        \n",
    "    if int(row['closenessRank']) <= int(dic[row['networkType']]['closeness'][row['networkSize']][row['instanceNumber']]) / 4:\n",
    "        closenessBinary.append(1)\n",
    "    else:\n",
    "        closenessBinary.append(0)\n",
    "        \n",
    "    if int(row['betweennessRank']) <= int(dic[row['networkType']]['betweenness'][row['networkSize']][row['instanceNumber']]) / 4:\n",
    "        betweennessBinary.append(1)\n",
    "    else:\n",
    "        betweennessBinary.append(0)\n",
    "        \n",
    "    if int(row['loadRank']) <= int(dic[row['networkType']]['load'][row['networkSize']][row['instanceNumber']]) / 4:\n",
    "        loadBinary.append(1)\n",
    "    else:\n",
    "        loadBinary.append(0)\n",
    "        \n",
    "    if int(row['reachRank']) <= int(dic[row['networkType']]['reach'][row['networkSize']][row['instanceNumber']]) / 4:\n",
    "        reachBinary.append(1)\n",
    "    else:\n",
    "        reachBinary.append(0)\n",
    "        \n",
    "    if int(row['harmonicRank']) <= int(dic[row['networkType']]['harmonic'][row['networkSize']][row['instanceNumber']]) / 4:\n",
    "        harmonicBinary.append(1)\n",
    "    else:\n",
    "        harmonicBinary.append(0)\n",
    "        \n",
    "    if int(row['pageRank']) <= int(dic[row['networkType']]['page'][row['networkSize']][row['instanceNumber']]) / 4:\n",
    "        pageBinary.append(1)\n",
    "    else:\n",
    "        pageBinary.append(0)\n",
    "        \n",
    "df['degreeBinary'] = degreeBinary # append binary lists as columns to the end of the dataframe\n",
    "df['closenessBinary'] = closenessBinary\n",
    "df['betweennessBinary'] = betweennessBinary\n",
    "df['loadBinary'] = loadBinary\n",
    "df['reachBinary'] = reachBinary\n",
    "df['harmonicBinary'] = harmonicBinary\n",
    "df['pageBinary'] = pageBinary"
   ]
  },
  {
   "cell_type": "code",
   "execution_count": null,
   "metadata": {},
   "outputs": [],
   "source": [
    "scale_free = df.loc[df['networkType'] == 'scale-free'] # recreate fresh dataframes after previous, sorting step\n",
    "small_world = df.loc[df['networkType'] == 'small-world']\n",
    "random_data = df.loc[df['networkType'] == 'random']\n",
    "small_world_scale_free = df.loc[df['networkType'] == 'small-world/scale-free']"
   ]
  },
  {
   "cell_type": "code",
   "execution_count": null,
   "metadata": {},
   "outputs": [],
   "source": [
    "df['reachBinary'].value_counts()"
   ]
  },
  {
   "cell_type": "code",
   "execution_count": null,
   "metadata": {},
   "outputs": [],
   "source": [
    "# this is to output dataframe so we can start at this point every time we want to train a classifier\n",
    "# it takes about 6 minutes on a standard 8-core redhawk node to get to this point in the code\n",
    "df.to_csv('redhawk/binary_data.csv')"
   ]
  },
  {
   "cell_type": "markdown",
   "metadata": {},
   "source": [
    "### Decision Tree Classifier on Redhawk:"
   ]
  },
  {
   "cell_type": "code",
   "execution_count": null,
   "metadata": {},
   "outputs": [],
   "source": [
    "with open('decision_tree_status.txt', 'a') as outstatus:\n",
    "    outstatus.write('Starting Decision Tree Classifier...\\n')\n",
    "\n",
    "import pandas as pd\n",
    "df = pd.read_csv('binary_data.csv')\n",
    "\n",
    "scale_free = df.loc[df['networkType'] == 'scale-free'] # recreate fresh dataframes after previous, sorting step\n",
    "small_world = df.loc[df['networkType'] == 'small-world']\n",
    "random_data = df.loc[df['networkType'] == 'random']\n",
    "small_world_scale_free = df.loc[df['networkType'] == 'small-world/scale-free']\n",
    "\n",
    "# start decision tree classifier job\n",
    "from sklearn.tree import DecisionTreeClassifier\n",
    "from sklearn import tree\n",
    "import random\n",
    "from sklearn.model_selection import KFold\n",
    "from sklearn.model_selection import train_test_split\n",
    "from sklearn.metrics import classification_report, accuracy_score\n",
    "from sklearn.model_selection import GridSearchCV\n",
    "from multiprocessing import Process\n",
    "\n",
    "# balance data and train models\n",
    "networkTypes = [scale_free, small_world, random_data, small_world_scale_free]\n",
    "networkNames = ['Scale-Free', 'Small-World', 'Random', 'Small-World/Scale-Free']\n",
    "centralityTargets = ['degree', 'closeness','betweenness','load','reach','harmonic','page']\n",
    "# We don't train models on reach,load,betweenness because all of them have nodes with ranks tied < 25%\n",
    "\n",
    "def analyze_network(df, network_name):\n",
    "    grid_params = {\n",
    "        'max_depth': [2, 4, 6],\n",
    "        'criterion': [\"gini\"], \n",
    "        'min_samples_leaf': [5]\n",
    "    }\n",
    "\n",
    "    for target in centralityTargets:\n",
    "        # first, drop unneeded columns and the ranking of our target\n",
    "        temp = df.copy().drop(['networkType', 'instanceNumber', 'nodeNumber', target + 'Rank'], axis=1)\n",
    "        # then, drop all binary columns except for our target\n",
    "        temp = temp.drop([x + 'Binary' for x in centralityTargets if x != target], axis=1)\n",
    "        \n",
    "        # divide data into training and testing sets\n",
    "        temp_train, temp_test = train_test_split(temp, test_size = 0.2, random_state = 0)\n",
    "        \n",
    "        # balance the data\n",
    "        num_zeros = temp_train[target + 'Binary'].value_counts()[0]\n",
    "        num_ones = temp_train[target + 'Binary'].value_counts()[1]\n",
    "        if num_zeros > num_ones: \n",
    "            # if num_ones is the minority, remove zeros to equal size\n",
    "            # chop down zeros to size: num_ones\n",
    "            chopping_block = random.sample(range(0, num_zeros), num_zeros - num_ones)\n",
    "            temp_train = temp_train.drop(temp_train.index[chopping_block])\n",
    "\n",
    "        else: \n",
    "            # if num_zeros is the minority, remove ones to equal size\n",
    "            # chop down ones to size: num_zeros\n",
    "            chopping_block = random.sample(range(0, num_ones), num_ones - num_zeros)\n",
    "            temp_train = temp_train.drop(temp_train.index[chopping_block])\n",
    "        \n",
    "\n",
    "        # then, divide training data into 10 training and validation folds\n",
    "        sum = 0\n",
    "        folds = 10\n",
    "        kf = KFold(n_splits=folds)\n",
    "        for train, test in kf.split(temp_train):\n",
    "            X_train = temp_train.iloc[train, 0:5].values\n",
    "            y_train = temp_train.iloc[train, 5].values\n",
    "            X_test = temp_train.iloc[test, 0:5].values\n",
    "            y_test = temp_train.iloc[test, 5].values\n",
    "            \n",
    "            classifier = GridSearchCV(DecisionTreeClassifier(), grid_params)\n",
    "            classifier.fit(X_train, y_train)\n",
    "            print(classifier.best_params_)\n",
    "            pred = classifier.predict(X_test)\n",
    "            sum += accuracy_score(pred, y_test)\n",
    "        print('\\nAverage accuracy from ' + str(folds) + ' folds: ' + str(sum / folds))\n",
    "        \n",
    "        # then, train a model with all of the training data and test against the test data\n",
    "        X_train = temp_train.iloc[:, 0:5].values\n",
    "        y_train = temp_train.iloc[:, 5].values\n",
    "        X_test = temp_test.iloc[:, 0:5].values\n",
    "        y_test = temp_test.iloc[:, 5].values\n",
    "    \n",
    "        classifier = DecisionTreeClassifier(criterion = \"gini\", random_state = 100,\n",
    "                               max_depth=3, min_samples_leaf=5)\n",
    "        classifier.fit(X_train, y_train)\n",
    "        prediction = classifier.predict(X_test)\n",
    "        \n",
    "        print(classification_report(prediction, y_test))\n",
    "        print('Example: The prediction of '+target+' based on the rank of other attributes as 800,26,8,8,8 is '+str(classifier.predict([[800,26,8,8,8]])))\n",
    "        print('Total Accuracy: ' + str(accuracy_score(prediction, y_test)))\n",
    "        with open('dt_results/' + network_name.replace('/','-'), 'a') as outstatus:\n",
    "            outstatus.write(target + ' rank:\\n')\n",
    "            outstatus.write('\\tTotal Accuracy: ' + str(accuracy_score(prediction, y_test)) + '\\n')\n",
    "            outstatus.write('\\tExample: The prediction of '+target+' based on the rank of other attributes as 800,26,8,8,8 is '+str(classifier.predict([[800,26,8,8,8]])) + '\\n')\n",
    "\n",
    "nameIndex = -1\n",
    "processes = [x for x in range(len(networkTypes))]\n",
    "for df in networkTypes:\n",
    "    with open('dt_results/' + str(networkNames[nameIndex].replace('/','-')), 'w') as clearfile:\n",
    "        pass\n",
    "    nameIndex += 1\n",
    "    processes[nameIndex] = Process(target=analyze_network, args=(df, networkNames[nameIndex]))\n",
    "    processes[nameIndex].start()\n",
    "for i in range(len(processes)):\n",
    "    processes[i].join()\n",
    "    with open('decision_tree_status.txt', 'a') as outstatus:\n",
    "        outstatus.write(str(i+1) + '/' + str(len(networkNames)) + ' networks completed.\\n')\n",
    "\n",
    "with open('decision_tree_status.txt', 'a') as outstatus:\n",
    "    outstatus.write('Finished!\\n')"
   ]
  },
  {
   "cell_type": "markdown",
   "metadata": {},
   "source": [
    "### Random Forest Classifier on Redhawk:"
   ]
  },
  {
   "cell_type": "code",
   "execution_count": null,
   "metadata": {},
   "outputs": [],
   "source": [
    "with open('random_forest_status.txt', 'a') as outstatus:\n",
    "    outstatus.write('Starting Random Forest Classifier...\\n')\n",
    "\n",
    "import pandas as pd\n",
    "df = pd.read_csv('binary_data.csv')\n",
    "\n",
    "scale_free = df.loc[df['networkType'] == 'scale-free'] # recreate fresh dataframes after previous, sorting step\n",
    "small_world = df.loc[df['networkType'] == 'small-world']\n",
    "random_data = df.loc[df['networkType'] == 'random']\n",
    "small_world_scale_free = df.loc[df['networkType'] == 'small-world/scale-free']\n",
    "\n",
    "# start random forest classifier job\n",
    "from sklearn.ensemble import RandomForestClassifier\n",
    "from sklearn import tree\n",
    "import random\n",
    "from sklearn.model_selection import KFold\n",
    "from sklearn.model_selection import train_test_split\n",
    "from sklearn.metrics import classification_report, accuracy_score\n",
    "from sklearn.model_selection import GridSearchCV\n",
    "from multiprocessing import Process\n",
    "\n",
    "# balance data and train models\n",
    "networkTypes = [scale_free, small_world, random_data, small_world_scale_free]\n",
    "networkNames = ['Scale-Free', 'Small-World', 'Random', 'Small-World/Scale-Free']\n",
    "centralityTargets = ['degree', 'closeness','betweenness','load','reach','harmonic','page']\n",
    "# We don't train models on reach,load,betweenness because all of them have nodes with ranks tied < 25%\n",
    "\n",
    "def analyze_network(df, network_name):\n",
    "    grid_params = {'n_estimators': [20, 40, 60]}\n",
    "\n",
    "    for target in centralityTargets:\n",
    "        # first, drop unneeded columns and the ranking of our target\n",
    "        temp = df.copy().drop(['networkType', 'instanceNumber', 'nodeNumber', target + 'Rank'], axis=1)\n",
    "        # then, drop all binary columns except for our target\n",
    "        temp = temp.drop([x + 'Binary' for x in centralityTargets if x != target], axis=1)\n",
    "        \n",
    "        # divide data into training and testing sets\n",
    "        temp_train, temp_test = train_test_split(temp, test_size = 0.2, random_state = 0)\n",
    "        \n",
    "        # balance the data\n",
    "        num_zeros = temp_train[target + 'Binary'].value_counts()[0]\n",
    "        num_ones = temp_train[target + 'Binary'].value_counts()[1]\n",
    "        if num_zeros > num_ones: \n",
    "            # if num_ones is the minority, remove zeros to equal size\n",
    "            # chop down zeros to size: num_ones\n",
    "            chopping_block = random.sample(range(0, num_zeros), num_zeros - num_ones)\n",
    "            temp_train = temp_train.drop(temp_train.index[chopping_block])\n",
    "\n",
    "        else: \n",
    "            # if num_zeros is the minority, remove ones to equal size\n",
    "            # chop down ones to size: num_zeros\n",
    "            chopping_block = random.sample(range(0, num_ones), num_ones - num_zeros)\n",
    "            temp_train = temp_train.drop(temp_train.index[chopping_block])\n",
    "        \n",
    "\n",
    "        # then, divide training data into 10 training and validation folds\n",
    "        sum = 0\n",
    "        folds = 10\n",
    "        kf = KFold(n_splits=folds)\n",
    "        for train, test in kf.split(temp_train):\n",
    "            X_train = temp_train.iloc[train, 0:5].values\n",
    "            y_train = temp_train.iloc[train, 5].values\n",
    "            X_test = temp_train.iloc[test, 0:5].values\n",
    "            y_test = temp_train.iloc[test, 5].values\n",
    "            \n",
    "            classifier = GridSearchCV(RandomForestClassifier(), grid_params)\n",
    "            classifier.fit(X_train, y_train)\n",
    "            print(classifier.best_params_)\n",
    "            pred = classifier.predict(X_test)\n",
    "            sum += accuracy_score(pred, y_test)\n",
    "        print('\\nAverage accuracy from ' + str(folds) + ' folds: ' + str(sum / folds))\n",
    "        \n",
    "        # then, train a model with all of the training data and test against the test data\n",
    "        X_train = temp_train.iloc[:, 0:5].values\n",
    "        y_train = temp_train.iloc[:, 5].values\n",
    "        X_test = temp_test.iloc[:, 0:5].values\n",
    "        y_test = temp_test.iloc[:, 5].values\n",
    "    \n",
    "        classifier = RandomForestClassifier(n_estimators=40)\n",
    "        classifier.fit(X_train, y_train)\n",
    "        prediction = classifier.predict(X_test)\n",
    "        \n",
    "        print(classification_report(prediction, y_test))\n",
    "        print('Example: The prediction of '+target+' based on the rank of other attributes as 800,26,8,8,8 is '+str(classifier.predict([[800,26,8,8,8]])))\n",
    "        print('Total Accuracy: ' + str(accuracy_score(prediction, y_test)))\n",
    "        with open('rf_results/' + network_name.replace('/','-'), 'a') as outstatus:\n",
    "            outstatus.write(target + ' rank:\\n')\n",
    "            outstatus.write('\\tTotal Accuracy: ' + str(accuracy_score(prediction, y_test)) + '\\n')\n",
    "            outstatus.write('\\tExample: The prediction of '+target+' based on the rank of other attributes as 800,26,8,8,8 is '+str(classifier.predict([[800,26,8,8,8]])) + '\\n')\n",
    "\n",
    "nameIndex = -1\n",
    "processes = [x for x in range(len(networkTypes))]\n",
    "for df in networkTypes:\n",
    "    with open('rf_results/' + str(networkNames[nameIndex].replace('/','-')), 'w') as clearfile:\n",
    "        pass\n",
    "    nameIndex += 1\n",
    "    processes[nameIndex] = Process(target=analyze_network, args=(df, networkNames[nameIndex]))\n",
    "    processes[nameIndex].start()\n",
    "for i in range(len(processes)):\n",
    "    processes[i].join()\n",
    "    with open('random_forest_status.txt', 'a') as outstatus:\n",
    "        outstatus.write(str(i+1) + '/' + str(len(networkNames)) + ' networks completed.\\n')\n",
    "\n",
    "with open('random_forest_status.txt', 'a') as outstatus:\n",
    "    outstatus.write('Finished!\\n')"
   ]
  },
  {
   "cell_type": "markdown",
   "metadata": {},
   "source": [
    "### Naive Bayes Classifier on Redhawk:"
   ]
  },
  {
   "cell_type": "code",
   "execution_count": null,
   "metadata": {},
   "outputs": [],
   "source": [
    "with open('naive_bayes_status.txt', 'a') as outstatus:\n",
    "    outstatus.write('Starting Naive Bayes Classifier...\\n')\n",
    "\n",
    "import pandas as pd\n",
    "df = pd.read_csv('binary_data.csv')\n",
    "\n",
    "scale_free = df.loc[df['networkType'] == 'scale-free'] # recreate fresh dataframes after previous, sorting step\n",
    "small_world = df.loc[df['networkType'] == 'small-world']\n",
    "random_data = df.loc[df['networkType'] == 'random']\n",
    "small_world_scale_free = df.loc[df['networkType'] == 'small-world/scale-free']\n",
    "\n",
    "# start naive bayes classifier job\n",
    "from sklearn.naive_bayes import BernoulliNB\n",
    "from sklearn import tree\n",
    "import random\n",
    "from sklearn.model_selection import KFold\n",
    "from sklearn.model_selection import train_test_split\n",
    "from sklearn.metrics import classification_report, accuracy_score\n",
    "from sklearn.model_selection import GridSearchCV\n",
    "from multiprocessing import Process\n",
    "\n",
    "# balance data and train models\n",
    "networkTypes = [scale_free, small_world, random_data, small_world_scale_free]\n",
    "networkNames = ['Scale-Free', 'Small-World', 'Random', 'Small-World/Scale-Free']\n",
    "centralityTargets = ['degree', 'closeness','betweenness','load','reach','harmonic','page']\n",
    "# We don't train models on reach,load,betweenness because all of them have nodes with ranks tied < 25%\n",
    "\n",
    "def analyze_network(df, network_name):\n",
    "    grid_params = {'alpha': [.80, 1.0]}\n",
    "\n",
    "    for target in centralityTargets:\n",
    "        # first, drop unneeded columns and the ranking of our target\n",
    "        temp = df.copy().drop(['networkType', 'instanceNumber', 'nodeNumber', target + 'Rank'], axis=1)\n",
    "        # then, drop all binary columns except for our target\n",
    "        temp = temp.drop([x + 'Binary' for x in centralityTargets if x != target], axis=1)\n",
    "        \n",
    "        # divide data into training and testing sets\n",
    "        temp_train, temp_test = train_test_split(temp, test_size = 0.2, random_state = 0)\n",
    "        \n",
    "        # balance the data\n",
    "        num_zeros = temp_train[target + 'Binary'].value_counts()[0]\n",
    "        num_ones = temp_train[target + 'Binary'].value_counts()[1]\n",
    "        if num_zeros > num_ones: \n",
    "            # if num_ones is the minority, remove zeros to equal size\n",
    "            # chop down zeros to size: num_ones\n",
    "            chopping_block = random.sample(range(0, num_zeros), num_zeros - num_ones)\n",
    "            temp_train = temp_train.drop(temp_train.index[chopping_block])\n",
    "\n",
    "        else: \n",
    "            # if num_zeros is the minority, remove ones to equal size\n",
    "            # chop down ones to size: num_zeros\n",
    "            chopping_block = random.sample(range(0, num_ones), num_ones - num_zeros)\n",
    "            temp_train = temp_train.drop(temp_train.index[chopping_block])\n",
    "        \n",
    "\n",
    "        # then, divide training data into 10 training and validation folds\n",
    "        sum = 0\n",
    "        folds = 10\n",
    "        kf = KFold(n_splits=folds)\n",
    "        for train, test in kf.split(temp_train):\n",
    "            X_train = temp_train.iloc[train, 0:5].values\n",
    "            y_train = temp_train.iloc[train, 5].values\n",
    "            X_test = temp_train.iloc[test, 0:5].values\n",
    "            y_test = temp_train.iloc[test, 5].values\n",
    "            \n",
    "            classifier = GridSearchCV(BernoulliNB(), grid_params)\n",
    "            classifier.fit(X_train, y_train)\n",
    "            print(classifier.best_params_)\n",
    "            pred = classifier.predict(X_test)\n",
    "            sum += accuracy_score(pred, y_test)\n",
    "        print('\\nAverage accuracy from ' + str(folds) + ' folds: ' + str(sum / folds))\n",
    "        \n",
    "        # then, train a model with all of the training data and test against the test data\n",
    "        X_train = temp_train.iloc[:, 0:5].values\n",
    "        y_train = temp_train.iloc[:, 5].values\n",
    "        X_test = temp_test.iloc[:, 0:5].values\n",
    "        y_test = temp_test.iloc[:, 5].values\n",
    "    \n",
    "        classifier = BernoulliNB(alpha=1.0)\n",
    "        classifier.fit(X_train, y_train)\n",
    "        prediction = classifier.predict(X_test)\n",
    "        \n",
    "        print(classification_report(prediction, y_test))\n",
    "        print('Example: The prediction of '+target+' based on the rank of other attributes as 800,26,8,8,8 is '+str(classifier.predict([[800,26,8,8,8]])))\n",
    "        print('Total Accuracy: ' + str(accuracy_score(prediction, y_test)))\n",
    "        with open('nb_results/' + network_name.replace('/','-'), 'a') as outstatus:\n",
    "            outstatus.write(target + ' rank:\\n')\n",
    "            outstatus.write('\\tTotal Accuracy: ' + str(accuracy_score(prediction, y_test)) + '\\n')\n",
    "            outstatus.write('\\tExample: The prediction of '+target+' based on the rank of other attributes as 800,26,8,8,8 is '+str(classifier.predict([[800,26,8,8,8]])) + '\\n')\n",
    "\n",
    "nameIndex = -1\n",
    "processes = [x for x in range(len(networkTypes))]\n",
    "for df in networkTypes:\n",
    "    with open('nb_results/' + str(networkNames[nameIndex].replace('/','-')), 'w') as clearfile:\n",
    "        pass\n",
    "    nameIndex += 1\n",
    "    processes[nameIndex] = Process(target=analyze_network, args=(df, networkNames[nameIndex]))\n",
    "    processes[nameIndex].start()\n",
    "for i in range(len(processes)):\n",
    "    processes[i].join()\n",
    "    with open('naive_bayes_status.txt', 'a') as outstatus:\n",
    "        outstatus.write(str(i+1) + '/' + str(len(networkNames)) + ' networks completed.\\n')\n",
    "\n",
    "with open('naive_bayes_status.txt', 'a') as outstatus:\n",
    "    outstatus.write('Finished!\\n')"
   ]
  }
 ],
 "metadata": {
  "kernelspec": {
   "display_name": "Python 3",
   "language": "python",
   "name": "python3"
  },
  "language_info": {
   "codemirror_mode": {
    "name": "ipython",
    "version": 3
   },
   "file_extension": ".py",
   "mimetype": "text/x-python",
   "name": "python",
   "nbconvert_exporter": "python",
   "pygments_lexer": "ipython3",
   "version": "3.7.3"
  }
 },
 "nbformat": 4,
 "nbformat_minor": 2
}
