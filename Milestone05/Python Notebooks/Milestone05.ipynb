{
 "cells": [
  {
   "cell_type": "markdown",
   "metadata": {},
   "source": [
    "## Milestone 5:\n",
    "\n",
    "This is the last milestone. So it'll be an occasion to enjoy seeing all the work you've done and what you learned in the process. And it'll also be the time to do the last bits of \"packaging\" and analysis.\n",
    "In terms of packaging:\n",
    "Instead of a zip file, you will submit the URL to your complete shared google drive repository. We would expect to see six folders:\n",
    "- Data, containing the generated networks themselves, exported from NetworkX; plus the spreadsheet used as input for machine learning, which lists the networks and their measures. Note that there will be additional measures as specified below. The point for exporting the networks themselves is to avoid having to redo absolutely everything in order to just add in a few more measures later on.\n",
    "- Python notebooks (containing only the final versions)\n",
    "- Redhawk cluster (containing any script you may have created and/or README file)\n",
    "- Results, containing two subfolders: machine learning and correlations (previous work goes in that). The machine learning folder needs one CSV file listing the algorithms (decision tree, SVM,random forest), the average + standard deviation for precision/accuracy/recall, and the best parameter values (obtained from the grid search). The point in structuring these results as a CSV is to make them easy to analyze later on rather than having a lot of small 'text-like' files.\n",
    "- Report (the word file and any images you may have produced. Use track changes so I can see all edits that you've made for your final report. Don't worry if there are edits in lots of place.)\n",
    "- Deprecated (anything you have made over time and wish to keep even though it's not part of the final product)\n",
    "\n",
    "Your files are usually very well organized I have no doubt you're already in good shape to keep things clean. I'm using the same organization across the groups so I can also figure out what-goes-where.\n",
    "A few things to clean and complete:\n",
    "1) I've attached the notebook from another group that follows the process for a nested cross-fold validation. Please use this thorough process. That'll ensure robust results and also better results, since you'll actually use the outcome of your grid search optimization. It'll also organize your notebook so that you have one central function for the ML process instead of copy/pasted/tweaked versions.\n",
    "2) Please address the comments made in your report by your peers and myself.\n",
    "Final analyses\n",
    "1) Please add a section \"Results\" to your report. It'll have two subsections:\n",
    "- Correlations. It should narrate and show the work you've done on correlations. Right now you have one heat map, but you actually have produced several correlations. You also need to narrate them. Explain to the reader how you got these, what they represent, and the takeaway message.\n",
    "- Machine learning. Present your results and explain them. Comment on the strengths (what's good in this work?) and on areas to improve. You'll likely end up with better results but still not perfect (I wouldn't count on 90% accuracy right away). So try to specifically point out what it'd take to get even better results. If you had a milestone #6, what would you \"tell yourself\" that needs to be done? Again, I'm looking for specifics, not just \"we'll measure more stuff\" or \"we'll optimize better\".\n",
    "2) Move your background section (currently sitting at the end of the document) to be after the introduction. There are several comments to address in the background. Important additions here will be:\n",
    "- a table summarizing the different studies. Which network centrality measures did they look at? How did they study relations between measures (machine learning? correlations -- which ones?). Which networks did they use? Did they measure characteristics of their networks -- which ones? What are the conclusions? This may end up being a full-page table, but that's fine.\n",
    "- the last two studies that weren't read previously (one paragraph each, same as before).\n",
    "- your suggestion about two more studies to read. I'm not asking you to read them. The sample I've sent you is sufficient for your work and at some point \"doing more of X\" isn't the best learning strategy. What I'm asking learning-wise is that you can demonstrate that you know what you're looking for, and that you can find it. The whole \"I know how to teach myself\" thing.\n",
    "3) Add columns in the spreadsheet serving as input to the ML process. Specifically, your readings repeatedly make the point that you need to measure some aspects of the networks to better characterize relations between centrality measures. For each network, we'd want to see:\n",
    "- average distance\n",
    "- variation of node degrees\n",
    "- average clustering\n",
    "- any two additional measures of your choosing\n",
    "Note that Redhawk is busy in the last few days of the semester. A lot of people sort of desperately try to run their things before they leave. You don't want to end up being some of these people, because you may end up depending on a resource that won't be available to the extent you need it. So I'd recommend making a priority to push stuff on Redhawk early on given the end-of-semester resource crunch.\n",
    "Final report\n",
    "Proofreading is essential and that needs to be baked into your process. Otherwise, you'll end up sending professional documents that will reflect poorly on you, and will not be in line with the quality of the work that you've actually put in. Once everybody's part is in the report, there should be two persons who proofread and fix it, one after the other. This proofreading should be done at most the day before the submission is due. You can't proofread the day of a submission or it results in a stressed out task and a botched job (in my experience). I would ask that the persons proofreading the report CC me when they send the edited document to the team. It's a little too close to micro-managing for my liking but it'll emphasize the importance of polishing your work and scheduling, which is a habit you'd want to keep beyond this course. A lot of this final milestone is future-looking by being the last opportunity to practice skills for your professional career.\n",
    "\n"
   ]
  },
  {
   "cell_type": "markdown",
   "metadata": {},
   "source": [
    "# Part 1: Data Generation\n",
    "\n",
    "The seven centralities that we will examine are degree centrality, closeness centrality, betweeness centrality, load flow centrality, reaching centrality, harmonic centrality, and page rank centrality. Additionally, we will use several properties of the network including average distance, average clustering, number of cliques, and strongly connected. All of the data for all of the graphs will be loaded into data.csv."
   ]
  },
  {
   "cell_type": "code",
   "execution_count": 1,
   "metadata": {},
   "outputs": [],
   "source": [
    "import pandas as pd\n",
    "import numpy as np\n",
    "import networkx as nx\n",
    "import statistics"
   ]
  },
  {
   "cell_type": "code",
   "execution_count": 2,
   "metadata": {},
   "outputs": [],
   "source": [
    "def get_degrees(G):\n",
    "    deg = nx.degree_centrality(G)\n",
    "    deg_df = pd.Series(deg).to_frame()\n",
    "    deg_df.columns = ['Degree']\n",
    "    deg_df['degree_rank'] = deg_df['Degree'].rank(method = 'min', ascending = False)\n",
    "    return deg_df"
   ]
  },
  {
   "cell_type": "code",
   "execution_count": 3,
   "metadata": {},
   "outputs": [],
   "source": [
    "def get_closeness(G):\n",
    "    deg = nx.closeness_centrality(G)\n",
    "    deg_df = pd.Series(deg).to_frame()\n",
    "    deg_df.columns = ['Closeness']\n",
    "    deg_df['closeness_rank'] = deg_df['Closeness'].rank(method = 'min', ascending = False)\n",
    "    return deg_df"
   ]
  },
  {
   "cell_type": "code",
   "execution_count": 4,
   "metadata": {},
   "outputs": [],
   "source": [
    "def get_betweeness(G):\n",
    "    deg = nx.betweenness_centrality(G)\n",
    "    deg_df = pd.Series(deg).to_frame()\n",
    "    deg_df.columns = ['Betweeness']\n",
    "    deg_df['betweeness_rank'] = deg_df['Betweeness'].rank(method = 'min', ascending = False)\n",
    "    return deg_df"
   ]
  },
  {
   "cell_type": "code",
   "execution_count": 5,
   "metadata": {},
   "outputs": [],
   "source": [
    "def get_load_flow(G):\n",
    "    deg = nx.load_centrality(G)\n",
    "    deg_df = pd.Series(deg).to_frame()\n",
    "    deg_df.columns = ['Load']\n",
    "    deg_df['load_rank'] = deg_df['Load'].rank(method = 'min', ascending = False)\n",
    "    return deg_df"
   ]
  },
  {
   "cell_type": "code",
   "execution_count": 6,
   "metadata": {},
   "outputs": [],
   "source": [
    "def get_local_reaching(G):\n",
    "    deg = {}\n",
    "    for x in range(len(G)): # compute local reach centrality for each node in G\n",
    "        deg[x] = nx.local_reaching_centrality(G, x)\n",
    "    deg_df = pd.Series(deg).to_frame()\n",
    "    deg_df.columns = ['Reaching']\n",
    "    deg_df['reach_rank'] = deg_df['Reaching'].rank(method = 'min', ascending = False)\n",
    "    return deg_df"
   ]
  },
  {
   "cell_type": "code",
   "execution_count": 7,
   "metadata": {},
   "outputs": [],
   "source": [
    "def get_harmonic(G):\n",
    "    deg = nx.harmonic_centrality(G)\n",
    "    deg_df = pd.Series(deg).to_frame()\n",
    "    deg_df.columns = ['Harmonic']\n",
    "    deg_df['harmonic_rank'] = deg_df['Harmonic'].rank(method = 'min', ascending = False)\n",
    "    return deg_df"
   ]
  },
  {
   "cell_type": "code",
   "execution_count": 8,
   "metadata": {},
   "outputs": [],
   "source": [
    "def get_page_rank(G):\n",
    "    deg = nx.pagerank_scipy(G)\n",
    "    deg_df = pd.Series(deg).to_frame()\n",
    "    deg_df.columns = ['Page']\n",
    "    deg_df['page_rank'] = deg_df['Page'].rank(method = 'min', ascending = False)\n",
    "    return deg_df"
   ]
  },
  {
   "cell_type": "code",
   "execution_count": 9,
   "metadata": {},
   "outputs": [],
   "source": [
    "def get_average_distance(G):\n",
    "    length = dict(nx.all_pairs_shortest_path_length(G)).values()\n",
    "    means = []\n",
    "    for val in length:\n",
    "        means.append(statistics.mean(val))\n",
    "    return statistics.mean(means)"
   ]
  },
  {
   "cell_type": "code",
   "execution_count": 10,
   "metadata": {},
   "outputs": [],
   "source": [
    "def get_average_clustering(G):\n",
    "    G2 = nx.DiGraph(G)\n",
    "    return nx.average_clustering(G2)"
   ]
  },
  {
   "cell_type": "code",
   "execution_count": 11,
   "metadata": {},
   "outputs": [],
   "source": [
    "def get_number_cliques(G):\n",
    "    G2 = G.to_undirected()\n",
    "    return nx.graph_clique_number(G2);"
   ]
  },
  {
   "cell_type": "code",
   "execution_count": 12,
   "metadata": {},
   "outputs": [],
   "source": [
    "def get_strongly_connected(G):\n",
    "    G2 = nx.DiGraph(G)\n",
    "    return nx.number_strongly_connected_components(G2)"
   ]
  },
  {
   "cell_type": "markdown",
   "metadata": {},
   "source": [
    "Networks and Parameters:\n",
    "\n",
    "|Network Types | Parameter(s) |\n",
    "|--------------|--------------|\n",
    "|scale-free| {size : How many nodes to generate} |\n",
    "|small-world | {size : How many nodes to generate, k : k nearest neighbor in a ring, p : probability of rewiring each edge}|\n",
    "|random | {size : How many nodes to generate, n : number of edges}|\n",
    "|scale-free & small-world |{size : How many nodes to generate, m : number of random edges for each node, p : probability of rewiring each edge} |"
   ]
  },
  {
   "cell_type": "markdown",
   "metadata": {},
   "source": [
    "## Data Generation Function:"
   ]
  },
  {
   "cell_type": "code",
   "execution_count": 88,
   "metadata": {},
   "outputs": [],
   "source": [
    "from multiprocessing import Process\n",
    "from datetime import datetime\n",
    "def parallel_generation(netType, size):\n",
    "    \n",
    "    def inner_split(netType, size, processNum):\n",
    "        with open('data_generation/' + netType.replace('/','-') + '/' + str(size) + '/' + str(processNum), 'w') as clearfile:\n",
    "            pass # this clears the file so that we can view progress throughout the job\n",
    "        for instNum in range((processNum*2) - 1, (processNum*2) + 1): # each process handles 2 networks\n",
    "            if netType == 'scale-free':\n",
    "                G = nx.scale_free_graph(size)\n",
    "            elif netType == 'small-world':\n",
    "                G = nx.watts_strogatz_graph(size, 3, 0.5)\n",
    "            elif netType == 'small-world/scale-free':\n",
    "                G = nx.powerlaw_cluster_graph(size, 3, 0.5)\n",
    "            else:\n",
    "                G = nx.gnm_random_graph(size, size * 4)\n",
    "\n",
    "            degree_list = get_degrees(G)\n",
    "            closeness_list = get_closeness(G)\n",
    "            betweeness_list = get_betweeness(G)\n",
    "            load_list = get_load_flow(G)\n",
    "            reach_list = get_local_reaching(G)\n",
    "            harmonic_list = get_harmonic(G)\n",
    "            page_list = get_page_rank(G)\n",
    "            distance_list = get_average_distance(G)\n",
    "            clustering_list = get_average_clustering(G)\n",
    "            cliques_list = get_number_cliques(G)\n",
    "            redundancy_list = get_number_cliques(G)\n",
    "\n",
    "            for node in G.nodes():\n",
    "                with open('data_generation/' + netType.replace('/','-') + '/' + str(size) + '/' + str(processNum), 'a') as outfile:\n",
    "                    outfile.write(netType + ',' + str(size)+ ',' + str(instNum) + ',')\n",
    "                    outfile.write(str(node) + ',' + str(degree_list['degree_rank'][node]) + ',')\n",
    "                    outfile.write(str(closeness_list['closeness_rank'][node]) + ',')\n",
    "                    outfile.write(str(betweeness_list['betweeness_rank'][node]) + ',')\n",
    "                    outfile.write(str(load_list['load_rank'][node]) + ',')\n",
    "                    outfile.write(str(reach_list['reach_rank'][node]) + ',')\n",
    "                    outfile.write(str(harmonic_list['harmonic_rank'][node]) + ',')\n",
    "                    outfile.write(str(page_list['page_rank'][node]) + ',')\n",
    "                    outfile.write(str(get_average_distance(G)) + ',')\n",
    "                    outfile.write(str(get_average_clustering(G)) + ',')\n",
    "                    outfile.write(str(get_number_cliques(G)) + ',')\n",
    "                    outfile.write(str(get_strongly_connected(G)) + '\\n')\n",
    "        # end inner_split()\n",
    "    \n",
    "    processes = [0]*25\n",
    "    for processNum in range(1, 26): # generate 25 2-network processes for each size and each network type (50 total networks)\n",
    "        processes[processNum - 1] = Process(target=inner_split, args=(netType, size, processNum))\n",
    "        processes[processNum - 1].start() # deploy each of the 25 processes\n",
    "    \n",
    "    for i in range(len(processes)): # wait for all processes to finish\n",
    "        processes[i].join()\n",
    "        "
   ]
  },
  {
   "cell_type": "code",
   "execution_count": 90,
   "metadata": {},
   "outputs": [
    {
     "name": "stdout",
     "output_type": "stream",
     "text": [
      "Started: 12-10 18:10:10\n",
      "\n",
      "Finished: 12-10 18:12:29\n",
      "\n"
     ]
    }
   ],
   "source": [
    "# remove the following safety line to generate new data\n",
    "return \"This is a safety line!\"\n",
    "\n",
    "print('Started: ' + datetime.now().strftime('%m-%d %H:%M:%S') + '\\n')\n",
    "parallel_generation('small-world', 100) # repeat this on redhawk for every network type/size pair\n",
    "print('Finished: ' + datetime.now().strftime('%m-%d %H:%M:%S') + '\\n')"
   ]
  },
  {
   "cell_type": "markdown",
   "metadata": {},
   "source": [
    "### Merge Data:"
   ]
  },
  {
   "cell_type": "code",
   "execution_count": 99,
   "metadata": {},
   "outputs": [],
   "source": [
    "# remove the following safety line to generate new data\n",
    "return \"This is a safety line!\"\n",
    "\n",
    "with open('data.csv', 'w') as startfile:\n",
    "    startfile.write('networkType,networkSize,instanceNumber,nodeNumber,degreeRank,closenessRank,betweennessRank,loadRank,reachRank,harmonicRank,pageRank,averageDistance,averageClustering,numberCliques,stronglyConnected\\n')\n",
    "    \n",
    "networkTypes = ['scale-free', 'small-world', 'random', 'small-world/scale-free'] # networks to add\n",
    "sizes = [100, 200, 400, 800] # Sizes to add\n",
    "\n",
    "for network_type in networkTypes:\n",
    "    for size in sizes:\n",
    "        for processNum in range(1,26):\n",
    "            with open('data_generation/' + network_type.replace('/','-') + '/' + str(size) + '/' + str(processNum), 'r') as infile:\n",
    "                line = infile.readline()\n",
    "                while line:\n",
    "                    with open('data.csv', 'a') as outfile:\n",
    "                        outfile.write(line)\n",
    "                    line = infile.readline()\n"
   ]
  },
  {
   "cell_type": "markdown",
   "metadata": {},
   "source": [
    "To construct a network that has both the properties of a scale-free & small-world network, we consulted the following research paper: https://www.uvm.edu/pdodds/files/papers/others/2002/holme2002a.pdf <br>These researchers were able to generate a network that had both of the network properties. Networkx has a function implemented that will generate a random graph with this algorithm and it is demonstrated below."
   ]
  },
  {
   "cell_type": "code",
   "execution_count": 6,
   "metadata": {},
   "outputs": [],
   "source": [
    "G = nx.powerlaw_cluster_graph(100, 3, 0.5)"
   ]
  },
  {
   "cell_type": "code",
   "execution_count": 7,
   "metadata": {},
   "outputs": [
    {
     "name": "stderr",
     "output_type": "stream",
     "text": [
      "/Users/Alex/anaconda3/lib/python3.7/site-packages/networkx/drawing/nx_pylab.py:579: MatplotlibDeprecationWarning: \n",
      "The iterable function was deprecated in Matplotlib 3.1 and will be removed in 3.3. Use np.iterable instead.\n",
      "  if not cb.iterable(width):\n"
     ]
    },
    {
     "data": {
      "image/png": "[encoded data removed]",
      "text/plain": [
       "<Figure size 432x288 with 1 Axes>"
      ]
     },
     "metadata": {},
     "output_type": "display_data"
    }
   ],
   "source": [
    "import matplotlib.pyplot as plt\n",
    "%matplotlib inline\n",
    "pos = nx.spring_layout(G)\n",
    "nx.draw_networkx(G, pos, with_labels=False, node_size=50)"
   ]
  },
  {
   "cell_type": "markdown",
   "metadata": {},
   "source": [
    "### Demonstrating that the powerlaw_cluster_graph is in fact a Scale-Free Small-World Network:"
   ]
  },
  {
   "cell_type": "markdown",
   "metadata": {},
   "source": [
    "<strong> Showing high average clustering:</strong><br>\n",
    "\n",
    "Within the networkx library, there is a function that will calculate the average clustering. We will compare this value with the values of small-world  graphs to show that it closely resembles the small-world clustering."
   ]
  },
  {
   "cell_type": "code",
   "execution_count": 12,
   "metadata": {},
   "outputs": [
    {
     "name": "stdout",
     "output_type": "stream",
     "text": [
      "The average clustering for SF-SW:  0.34261955685169376\n",
      "The average clustering for SW:     0.15123125124101897\n"
     ]
    }
   ],
   "source": [
    "from statistics import mean\n",
    "\n",
    "swsf_clusters = []\n",
    "sw_clusters = []\n",
    "for n in range(100):    \n",
    "    swsf_graph = nx.powerlaw_cluster_graph(100, 10, 0.5)\n",
    "    swsf_clusters.append(nx.average_clustering(swsf_graph))\n",
    "    sw_graph = nx.watts_strogatz_graph(100, 10, 0.5)\n",
    "    sw_clusters.append(nx.average_clustering(sw_graph))\n",
    "    \n",
    "print(\"The average clustering for SF-SW: \", mean(swsf_clusters))\n",
    "print(\"The average clustering for SW:    \", mean(sw_clusters))"
   ]
  },
  {
   "cell_type": "markdown",
   "metadata": {},
   "source": [
    "As you can see from gathering the average clustering for the scale-free small-world network is actually higher than the watts-strogatz graph so the powerlaw_cluster_graph does have the property of high average clustering.<br><br>\n",
    "<strong> Showing low average distance:</strong><br><br>\n",
    "Within the networkx library, there is a function that will calculate the average shortest_path_length. This is a property of the small-world network we will show how the powerlaw_cluster_graph resembles this property."
   ]
  },
  {
   "cell_type": "code",
   "execution_count": 13,
   "metadata": {},
   "outputs": [
    {
     "name": "stdout",
     "output_type": "stream",
     "text": [
      "The average distance for SF-SW:  1.8592949494949496\n",
      "The average distance for SW:     2.2656020202020204\n"
     ]
    }
   ],
   "source": [
    "swsf_dist = []\n",
    "sw_dist = []\n",
    "for n in range(100):    \n",
    "    swsf_graph = nx.powerlaw_cluster_graph(100, 10, 0.5)\n",
    "    sw_graph = nx.watts_strogatz_graph(100, 10, 0.5)\n",
    "    swsf_dist.append(nx.average_shortest_path_length(swsf_graph))\n",
    "    sw_dist.append(nx.average_shortest_path_length(sw_graph))\n",
    "    \n",
    "print(\"The average distance for SF-SW: \", mean(swsf_dist))\n",
    "print(\"The average distance for SW:    \", mean(sw_dist))"
   ]
  },
  {
   "cell_type": "markdown",
   "metadata": {},
   "source": [
    "As you can see from the gathering of shortest average distance for the scale-free small-world network, the powerlaw_cluster_graph outperforms the watts_strogatz graph in having a lower average distance. This should confirm that the powerlaw_cluster_graph has the property of low average distance.<br><br>\n",
    "<strong>Showing power-law degree distribution:</strong><br><br>\n",
    "To show that the powerlaw_cluster_graph as a power-law degree distribution, we will plot a histogram of the degree distribution on a log-log scale and show a good fit for a line."
   ]
  },
  {
   "cell_type": "code",
   "execution_count": 14,
   "metadata": {},
   "outputs": [
    {
     "data": {
      "text/plain": [
       "<matplotlib.axes._subplots.AxesSubplot at 0xa164ae630>"
      ]
     },
     "execution_count": 14,
     "metadata": {},
     "output_type": "execute_result"
    },
    {
     "data": {
      "image/png": "[encoded data removed]",
      "text/plain": [
       "<Figure size 432x288 with 1 Axes>"
      ]
     },
     "metadata": {
      "needs_background": "light"
     },
     "output_type": "display_data"
    }
   ],
   "source": [
    "%matplotlib inline\n",
    "\n",
    "swsf_graph = nx.powerlaw_cluster_graph(1000, 10, 0.5)\n",
    "degree_sequence = sorted([d for n, d in swsf_graph.degree()], reverse=True)\n",
    "degree_sequence = pd.Series(degree_sequence)\n",
    "\n",
    "plt.figure()\n",
    "degree_sequence.plot.hist(bins = 100)"
   ]
  },
  {
   "cell_type": "markdown",
   "metadata": {},
   "source": [
    "The shape of the histogram closely resembles the power law with the raw distribution. The log-log scale of the degree distribution will n ow be examined to show a good fit for the line."
   ]
  },
  {
   "cell_type": "code",
   "execution_count": 15,
   "metadata": {},
   "outputs": [
    {
     "data": {
      "text/plain": [
       "[]"
      ]
     },
     "execution_count": 15,
     "metadata": {},
     "output_type": "execute_result"
    },
    {
     "data": {
      "image/png": "[encoded data removed]",
      "text/plain": [
       "<Figure size 432x288 with 1 Axes>"
      ]
     },
     "metadata": {
      "needs_background": "light"
     },
     "output_type": "display_data"
    }
   ],
   "source": [
    "swsf_graph = nx.powerlaw_cluster_graph(1000, 10, 0.5)\n",
    "degree_sequence = sorted([d for n, d in swsf_graph.degree()], reverse=True)\n",
    "degree_sequence = pd.Series(degree_sequence)\n",
    "\n",
    "plt.figure()\n",
    "hist = degree_sequence.plot.hist(bins = 100)\n",
    "plt.Axes.loglog(hist)"
   ]
  },
  {
   "cell_type": "markdown",
   "metadata": {},
   "source": [
    "The shape of the log-log histogram shows that the data distribution roughly shows a linear shape. This is expected for degree distributions that follow the power law. This effectively shows that the distribution roughly follow the power law and that it has this property. For reference, the distribution for the scale-free network, which does have this property, is shown below."
   ]
  },
  {
   "cell_type": "code",
   "execution_count": 16,
   "metadata": {},
   "outputs": [
    {
     "data": {
      "text/plain": [
       "[]"
      ]
     },
     "execution_count": 16,
     "metadata": {},
     "output_type": "execute_result"
    },
    {
     "data": {
      "image/png": "[encoded data removed]",
      "text/plain": [
       "<Figure size 432x288 with 1 Axes>"
      ]
     },
     "metadata": {
      "needs_background": "light"
     },
     "output_type": "display_data"
    }
   ],
   "source": [
    "sf_graph = nx.scale_free_graph(100)\n",
    "degree_sequence = sorted([d for n, d in sf_graph.degree()], reverse=True)\n",
    "degree_sequence = pd.Series(degree_sequence)\n",
    "\n",
    "plt.figure()\n",
    "hist = degree_sequence.plot.hist(bins = 75)\n",
    "plt.Axes.loglog(hist)"
   ]
  },
  {
   "cell_type": "markdown",
   "metadata": {},
   "source": [
    "As you can see from above, the scale-free small-world graph follows this distribution closer than the scale-free graph which is depicted above."
   ]
  },
  {
   "cell_type": "markdown",
   "metadata": {},
   "source": [
    "<strong>Findings:</strong><br>\n",
    "The powerlaw_cluster_graph embodies all of the qualities that is necessary for it to be a scale-free small world graph. It has all of the properties from both the scale-free network and the small-world network."
   ]
  },
  {
   "cell_type": "markdown",
   "metadata": {},
   "source": [
    "# Part 2: Centrality Correlations"
   ]
  },
  {
   "cell_type": "code",
   "execution_count": 17,
   "metadata": {},
   "outputs": [],
   "source": [
    "import pandas as pd\n",
    "import numpy as np\n",
    "import networkx as nx\n",
    "\n",
    "data = pd.read_csv(\"data.csv\")\n",
    "RND = data.loc[data['networkType'] == 'random']\n",
    "SF = data.loc[data['networkType'] == 'scale-free']\n",
    "SW = data.loc[data['networkType'] == 'small-world']\n",
    "SFSW = data.loc[data['networkType'] == 'small-world/scale-free']"
   ]
  },
  {
   "cell_type": "code",
   "execution_count": 18,
   "metadata": {},
   "outputs": [],
   "source": [
    "allP = data.corr(method ='pearson')\n",
    "allS = data.corr(method='spearman')\n",
    "allK = data.corr(method ='kendall')\n",
    "\n",
    "rndP = RND.corr(method ='pearson')\n",
    "rndS = RND.corr(method ='spearman')\n",
    "rndK = RND.corr(method ='kendall')\n",
    "\n",
    "sfP = SF.corr(method='pearson')\n",
    "sfS = SF.corr(method='spearman')\n",
    "sfK = SF.corr(method='kendall')\n",
    "\n",
    "swP = SW.corr(method='pearson')\n",
    "swS = SW.corr(method='spearman')\n",
    "swK = SW.corr(method='kendall')\n",
    "\n",
    "sfswP = SFSW.corr(method='pearson')\n",
    "sfswS = SFSW.corr(method='spearman')\n",
    "sfswK = SFSW.corr(method='kendall')"
   ]
  },
  {
   "cell_type": "code",
   "execution_count": null,
   "metadata": {},
   "outputs": [],
   "source": [
    "allP.to_csv('pairwise/all-pearson.csv')\n",
    "allS.to_csv('pairwise/all-spearman.csv')\n",
    "allK.to_csv('pairwise/all-kendall.csv')\n",
    "\n",
    "rndP.to_csv('pairwise/rnd-pearson.csv')\n",
    "rndS.to_csv('pairwise/rnd-spearman.csv')\n",
    "rndK.to_csv('pairwise/rnd-kendall.csv')\n",
    "\n",
    "sfP.to_csv('pairwise/sf-pearson.csv')\n",
    "sfS.to_csv('pairwise/sf-spearman.csv')\n",
    "sfK.to_csv('pairwise/sf-kendall.csv')\n",
    "\n",
    "swP.to_csv('pairwise/sw-pearson.csv')\n",
    "swS.to_csv('pairwise/sw-spearman.csv')\n",
    "swK.to_csv('pairwise/sw-kendall.csv')"
   ]
  },
  {
   "cell_type": "code",
   "execution_count": null,
   "metadata": {},
   "outputs": [],
   "source": [
    "sfswP.to_csv('pairwise/sfsw-pearson.csv')\n",
    "sfswS.to_csv('pairwise/sfsw-spearman.csv')\n",
    "sfswK.to_csv('pairwise/sfsw-kendall.csv')"
   ]
  },
  {
   "cell_type": "markdown",
   "metadata": {},
   "source": [
    "### Correlations Heatmap:"
   ]
  },
  {
   "cell_type": "code",
   "execution_count": 100,
   "metadata": {},
   "outputs": [],
   "source": [
    "import pandas as pd\n",
    "df = pd.read_csv('data.csv')"
   ]
  },
  {
   "cell_type": "code",
   "execution_count": 21,
   "metadata": {},
   "outputs": [
    {
     "data": {
      "text/plain": [
       "<matplotlib.axes._subplots.AxesSubplot at 0xa17b05198>"
      ]
     },
     "execution_count": 21,
     "metadata": {},
     "output_type": "execute_result"
    },
    {
     "data": {
      "image/png": "[encoded data removed]",
      "text/plain": [
       "<Figure size 720x720 with 2 Axes>"
      ]
     },
     "metadata": {
      "needs_background": "light"
     },
     "output_type": "display_data"
    }
   ],
   "source": [
    "import seaborn as sns\n",
    "\n",
    "df_corr = df.drop(['instanceNumber', 'nodeNumber', 'networkSize'], axis=1).corr()\n",
    "fig, ax = plt.subplots(figsize=(10,10))\n",
    "sns.heatmap(df_corr, xticklabels=df_corr.columns, yticklabels=df_corr.columns, annot=True, ax=ax)"
   ]
  },
  {
   "cell_type": "markdown",
   "metadata": {},
   "source": [
    "### Correlation Heatmap Results:\n",
    "\n",
    "|Centrality Types | Correlations |\n",
    "|--------------|--------------|\n",
    "|degreeRank|Strongly correlated with page|\n",
    "|closenessRank|Perfectly correlated with harmonic, strongly with betweenness and load|\n",
    "|betweennessRank|Perfectly correlated with load, strongly with page, harmonic, and closeness|\n",
    "|loadRank|Perfectly correlated with betweenness, strongly with page, harmonic, and closeness|\n",
    "|reachRank|No strong correlations, medium-strongly correlated with closeness and harmonic|\n",
    "|harmonicRank|Perfectly correlated with closeness, strongly with betweenness, load, and page|\n",
    "|pageRank|Strongly correlated with betweenness, load, degree, and harmonic|"
   ]
  },
  {
   "cell_type": "markdown",
   "metadata": {},
   "source": [
    "## Part 3: Model Generation"
   ]
  },
  {
   "cell_type": "markdown",
   "metadata": {},
   "source": [
    "### Create Class Outcome Columns:"
   ]
  },
  {
   "cell_type": "code",
   "execution_count": 102,
   "metadata": {},
   "outputs": [],
   "source": [
    "scale_free = df.loc[df['networkType'] == 'scale-free'] # add these new fields to the dataframe\n",
    "small_world = df.loc[df['networkType'] == 'small-world']\n",
    "random_data = df.loc[df['networkType'] == 'random']\n",
    "small_world_scale_free = df.loc[df['networkType'] == 'small-world/scale-free']"
   ]
  },
  {
   "cell_type": "code",
   "execution_count": 103,
   "metadata": {},
   "outputs": [],
   "source": [
    "# this cell creates a new dictionary with the max ranking node for each network and centrality type\n",
    "def namestr(obj, namespace):\n",
    "    return [name for name in namespace if namespace[name] is obj]\n",
    "\n",
    "dic={}\n",
    "centralities = ['degree', 'closeness', 'betweenness', 'load', 'reach', 'harmonic', 'page']\n",
    "networkTypes = ['scale-free', 'small-world', 'random', 'small-world/scale-free']\n",
    "for network in networkTypes:\n",
    "    dic[network]={}\n",
    "    curNetwork=None\n",
    "    if network=='scale-free':\n",
    "        curNetwork=scale_free\n",
    "    if network=='small-world':\n",
    "        curNetwork=small_world\n",
    "    if network=='random':\n",
    "        curNetwork=random_data\n",
    "    if network=='small-world/scale-free':\n",
    "        curNetwork=small_world_scale_free\n",
    "\n",
    "    for centrality in centralities:\n",
    "        dic[network][centrality]=curNetwork.groupby(['networkSize','instanceNumber'])[centrality +'Rank'].max()"
   ]
  },
  {
   "cell_type": "code",
   "execution_count": 104,
   "metadata": {},
   "outputs": [],
   "source": [
    "degreeBinary = [] # create empty lists for adding binary values to dataframe\n",
    "closenessBinary = []\n",
    "betweennessBinary = []\n",
    "loadBinary = []\n",
    "reachBinary = []\n",
    "harmonicBinary = []\n",
    "pageBinary = []\n",
    "\n",
    "for index, row in df.iterrows(): # iterate through all rows of dataframe\n",
    "    \n",
    "    if int(row['degreeRank']) <= int(dic[row['networkType']]['degree'][row['networkSize']][row['instanceNumber']]) / 4: \n",
    "        degreeBinary.append(1) # if the rank is in the top 25%, append 1 to binary list\n",
    "    else:\n",
    "        degreeBinary.append(0) # else, append a 0\n",
    "        \n",
    "    if int(row['closenessRank']) <= int(dic[row['networkType']]['closeness'][row['networkSize']][row['instanceNumber']]) / 4:\n",
    "        closenessBinary.append(1)\n",
    "    else:\n",
    "        closenessBinary.append(0)\n",
    "        \n",
    "    if int(row['betweennessRank']) <= int(dic[row['networkType']]['betweenness'][row['networkSize']][row['instanceNumber']]) / 4:\n",
    "        betweennessBinary.append(1)\n",
    "    else:\n",
    "        betweennessBinary.append(0)\n",
    "        \n",
    "    if int(row['loadRank']) <= int(dic[row['networkType']]['load'][row['networkSize']][row['instanceNumber']]) / 4:\n",
    "        loadBinary.append(1)\n",
    "    else:\n",
    "        loadBinary.append(0)\n",
    "        \n",
    "    if int(row['reachRank']) <= int(dic[row['networkType']]['reach'][row['networkSize']][row['instanceNumber']]) / 4:\n",
    "        reachBinary.append(1)\n",
    "    else:\n",
    "        reachBinary.append(0)\n",
    "        \n",
    "    if int(row['harmonicRank']) <= int(dic[row['networkType']]['harmonic'][row['networkSize']][row['instanceNumber']]) / 4:\n",
    "        harmonicBinary.append(1)\n",
    "    else:\n",
    "        harmonicBinary.append(0)\n",
    "        \n",
    "    if int(row['pageRank']) <= int(dic[row['networkType']]['page'][row['networkSize']][row['instanceNumber']]) / 4:\n",
    "        pageBinary.append(1)\n",
    "    else:\n",
    "        pageBinary.append(0)\n",
    "        \n",
    "df['degreeBinary'] = degreeBinary # append binary lists as columns to the end of the dataframe\n",
    "df['closenessBinary'] = closenessBinary\n",
    "df['betweennessBinary'] = betweennessBinary\n",
    "df['loadBinary'] = loadBinary\n",
    "df['reachBinary'] = reachBinary\n",
    "df['harmonicBinary'] = harmonicBinary\n",
    "df['pageBinary'] = pageBinary"
   ]
  },
  {
   "cell_type": "code",
   "execution_count": 105,
   "metadata": {},
   "outputs": [],
   "source": [
    "scale_free = df.loc[df['networkType'] == 'scale-free'] # recreate fresh dataframes after previous, sorting step\n",
    "small_world = df.loc[df['networkType'] == 'small-world']\n",
    "random_data = df.loc[df['networkType'] == 'random']\n",
    "small_world_scale_free = df.loc[df['networkType'] == 'small-world/scale-free']"
   ]
  },
  {
   "cell_type": "code",
   "execution_count": 106,
   "metadata": {},
   "outputs": [
    {
     "data": {
      "text/plain": [
       "0    196709\n",
       "1    103291\n",
       "Name: reachBinary, dtype: int64"
      ]
     },
     "execution_count": 106,
     "metadata": {},
     "output_type": "execute_result"
    }
   ],
   "source": [
    "df['reachBinary'].value_counts()"
   ]
  },
  {
   "cell_type": "code",
   "execution_count": 107,
   "metadata": {},
   "outputs": [],
   "source": [
    "# this is to save our progress for any time we want to train a new classifier\n",
    "# it takes about 6 minutes on a standard 16-core redhawk node to get to this point in the code\n",
    "df.to_csv('binary_data.csv')"
   ]
  },
  {
   "cell_type": "markdown",
   "metadata": {},
   "source": [
    "## Binary Balancing Function:"
   ]
  },
  {
   "cell_type": "code",
   "execution_count": 108,
   "metadata": {},
   "outputs": [],
   "source": [
    "def balance(rows, target):\n",
    "    zero_rows = rows[rows[target + 'Binary'] == 0]\n",
    "    one_rows = rows[rows[target + 'Binary'] == 1]\n",
    "    \n",
    "    if len(zero_rows) > len(one_rows): \n",
    "        # if ones are the minority, remove zeros to equal size\n",
    "        # chop down zeros to num_ones\n",
    "        chopping_block = random.sample(list(zero_rows.index), len(zero_rows) - len(one_rows))\n",
    "        rows = rows.drop(chopping_block)\n",
    "\n",
    "    else: \n",
    "        # if zeros are the minority, remove ones to equal size\n",
    "        # chop down ones to num_zeros\n",
    "        chopping_block = random.sample(list(one_rows.index), len(one_rows) - len(zero_rows))\n",
    "        rows = rows.drop(chopping_block)\n",
    "    \n",
    "    return rows"
   ]
  },
  {
   "cell_type": "markdown",
   "metadata": {},
   "source": [
    "## Classifier Training Function:"
   ]
  },
  {
   "cell_type": "code",
   "execution_count": 136,
   "metadata": {},
   "outputs": [],
   "source": [
    "def warn(*args, **kwargs): # suppress classifier training warnings\n",
    "    pass\n",
    "import warnings\n",
    "warnings.warn = warn\n",
    "\n",
    "import pandas as pd\n",
    "from sklearn.tree import DecisionTreeClassifier\n",
    "from sklearn.ensemble import RandomForestClassifier\n",
    "from sklearn.naive_bayes import BernoulliNB\n",
    "from sklearn.svm import LinearSVC\n",
    "from sklearn.linear_model import SGDClassifier\n",
    "from sklearn import tree\n",
    "import random\n",
    "from sklearn.metrics import classification_report, accuracy_score, precision_score, recall_score\n",
    "from sklearn.model_selection import GridSearchCV, ParameterGrid, KFold, train_test_split\n",
    "from multiprocessing import Process\n",
    "from datetime import datetime\n",
    "import operator\n",
    "import json\n",
    "\n",
    "def train_classifier(clf_name, grid_params):\n",
    "    \n",
    "    results = clf_name + '_results/'\n",
    "    with open(results + 'overall_status.csv', 'w') as statusfile: # initialize status file\n",
    "        statusfile.write('Classifier started: ' + datetime.now().strftime('%m-%d %H:%M:%S') + '\\n')\n",
    "        \n",
    "    with open(results + 'overall_results.csv', 'w') as clearfile: # clear overall results file\n",
    "        pass\n",
    "    \n",
    "    df = pd.read_csv('binary_data.csv')\n",
    "    scale_free = df.loc[df['networkType'] == 'scale-free'] # recreate fresh dataframes after previous, sorting step\n",
    "    small_world = df.loc[df['networkType'] == 'small-world']\n",
    "    random_data = df.loc[df['networkType'] == 'random']\n",
    "    small_world_scale_free = df.loc[df['networkType'] == 'small-world/scale-free']\n",
    "    \n",
    "    networkTypes = [scale_free, small_world, random_data, small_world_scale_free]\n",
    "    networkNames = ['Scale-Free', 'Small-World', 'Random', 'Small-World/Scale-Free']\n",
    "    centralityTargets = ['degree', 'closeness','betweenness','load','reach','harmonic','page']\n",
    "    \n",
    "    def create_clf(hyperparams):\n",
    "        if clf_name == 'dt': return DecisionTreeClassifier(**hyperparams) if hyperparams else DecisionTreeClassifier()\n",
    "        elif clf_name == 'rf': return RandomForestClassifier(**hyperparams) if hyperparams else RandomForestClassifier()\n",
    "        elif clf_name == 'nb': return BernoulliNB(**hyperparams) if hyperparams else BernoulliNB()\n",
    "        elif clf_name == 'sv': return LinearSVC(**hyperparams) if hyperparams else LinearSVC()\n",
    "        elif clf_name == 'gd': return SGDClassifier(**hyperparams) if hyperparams else SGDClassifier()\n",
    "        else: raise ValueError('Unsupported classifier name given as input')\n",
    "    \n",
    "    def parallel_train(df, network_name, target):\n",
    "    \n",
    "        # first, drop unneeded columns and the ranking of our target\n",
    "        temp = df.copy().drop(['networkType', 'instanceNumber', 'nodeNumber', target + 'Rank'], axis=1)\n",
    "        \n",
    "        # then, drop all binary columns except for our target\n",
    "        temp = temp.drop([x + 'Binary' for x in centralityTargets if x != target], axis=1)\n",
    "        \n",
    "        # hold out 20% of data for testing at the end\n",
    "        temp_train, temp_test = train_test_split(temp, test_size = 0.2, random_state = 42)\n",
    "        temp_train.reset_index(inplace=True)\n",
    "        temp_test.reset_index(inplace=True)\n",
    "        \n",
    "        # create scoring system for grid parameters\n",
    "        param_scores = {}\n",
    "        for params in grid_params:\n",
    "            param_scores[json.dumps(params)] = 0\n",
    "            \n",
    "        # divide our training data into 10 training and validation folds\n",
    "        kf = KFold(n_splits=10, shuffle=True, random_state = 42)\n",
    "        for train, test in kf.split(temp_train):\n",
    "\n",
    "            train_rows = temp_train.loc[train].iloc[:, 2:]\n",
    "            test_rows = temp_train.loc[test].iloc[:, 2:]\n",
    "\n",
    "            train_rows = balance(train_rows, target) # balance training data\n",
    "            \n",
    "            # split train and test sets into X and y components\n",
    "            X_train = train_rows.iloc[:, 0:-1]\n",
    "            y_train = train_rows.iloc[:, -1]\n",
    "            X_test = test_rows.iloc[:, 0:-1]\n",
    "            y_test = test_rows.iloc[:, -1]\n",
    "            \n",
    "            # perform grid search with every pair of grid parameters to find the best ones\n",
    "            max_accuracy = 0\n",
    "            best_params = {}\n",
    "            for params in grid_params:\n",
    "                classifier = create_clf(params)\n",
    "                classifier.fit(X_train, y_train)\n",
    "                accuracy = accuracy_score(classifier.predict(X_test), y_test)\n",
    "                if accuracy > max_accuracy:\n",
    "                    max_accuracy = accuracy\n",
    "                    best_params = params\n",
    "            \n",
    "            param_scores[json.dumps(best_params)] += 1\n",
    "            # end cross fold validation\n",
    "        \n",
    "        # awards ceremony\n",
    "        winner = max(param_scores.items(), key=operator.itemgetter(1))[0]\n",
    "        winning_params = json.loads(winner)\n",
    "            \n",
    "        # after finding the winning hyperparameters, use them to make a final classifier for our original 80/20 holdout\n",
    "        X_train = temp_train.iloc[:, 0:-1].values\n",
    "        y_train = temp_train.iloc[:, -1].values\n",
    "        X_test = temp_test.iloc[:, 0:-1].values\n",
    "        y_test = temp_test.iloc[:, -1].values\n",
    "    \n",
    "        classifier = create_clf(winning_params)\n",
    "        classifier.fit(X_train, y_train)\n",
    "        prediction = classifier.predict(X_test)\n",
    "        \n",
    "        with open(results + network_name.replace('/','-') + '.csv', 'a') as outresults:\n",
    "            outresults.write(target + ',')\n",
    "            outresults.write(str(accuracy_score(prediction, y_test)) + ',')\n",
    "            outresults.write(str(precision_score(prediction, y_test)) + ',')\n",
    "            outresults.write(str(recall_score(prediction, y_test)) + ',')\n",
    "            outresults.write(str(winner) + '\\n')\n",
    "        # end parallel_train()\n",
    "        \n",
    "    \n",
    "    # parallelize each network-name/centrality-target combination = 28 processes on a 16-core CPU\n",
    "    networkNameIndex = -1\n",
    "    processIndex = -1\n",
    "    processes = [x for x in range(len(networkTypes) * len(centralityTargets))]\n",
    "    for df in networkTypes:\n",
    "        networkNameIndex += 1\n",
    "        for target in centralityTargets:\n",
    "            with open(results + networkNames[networkNameIndex].replace('/','-') + '.csv', 'w') as clearfile:\n",
    "                pass\n",
    "            processIndex += 1\n",
    "            processes[processIndex] = Process(target=parallel_train, args=(df, networkNames[networkNameIndex], target))\n",
    "            processes[processIndex].start() # deploy process for each networkType/centralityType pair\n",
    "        \n",
    "    for i in range(len(processes)): # wait for all processes to finish\n",
    "        processes[i].join()\n",
    "    \n",
    "    # generate average accuracies, precisions, recalls\n",
    "    for network in networkNames:\n",
    "        with open(results + network.replace('/','-') + '.csv', 'r') as infile:\n",
    "            accuracy_sum = 0\n",
    "            precision_sum = 0\n",
    "            recall_sum = 0\n",
    "            count = 0\n",
    "            line = infile.readline()\n",
    "            while line:\n",
    "                accuracy_sum += float(line.split(',')[1])\n",
    "                precision_sum += float(line.split(',')[2])\n",
    "                recall_sum += float(line.split(',')[3])\n",
    "                count += 1\n",
    "                line = infile.readline()\n",
    "            avg_accuracy = round(accuracy_sum / count, 4)\n",
    "            avg_precision = round(precision_sum / count, 4)\n",
    "            avg_recall = round(recall_sum / count, 4)\n",
    "            with open(results + 'overall_results.csv', 'a') as outfile:\n",
    "                outfile.write(network + ',' + str(avg_accuracy) + ',' + str(avg_precision) + ',' + str(avg_recall) + '\\n')\n",
    "    \n",
    "    # generate overall accuracy, precision, recall\n",
    "    with open(results + 'overall_results.csv', 'r') as infile:\n",
    "        accuracy_sum = 0\n",
    "        precision_sum = 0\n",
    "        recall_sum = 0\n",
    "        count = 0\n",
    "        line = infile.readline()\n",
    "        while line:\n",
    "            accuracy_sum += float(line.split(',')[1])\n",
    "            precision_sum += float(line.split(',')[2])\n",
    "            recall_sum += float(line.split(',')[3])\n",
    "            count += 1\n",
    "            line = infile.readline()\n",
    "        avg_accuracy = round(accuracy_sum / count, 4)\n",
    "        avg_precision = round(precision_sum / count, 4)\n",
    "        avg_recall = round(recall_sum / count, 4)\n",
    "        with open(results + 'overall_results.csv', 'a') as outfile:\n",
    "            outfile.write('accuracy: ' + str(avg_accuracy) + '\\n')\n",
    "            outfile.write('precision: ' + str(avg_precision) + '\\n')\n",
    "            outfile.write('recall: ' + str(avg_recall))\n",
    "            \n",
    "    with open(results + 'overall_status.csv', 'a') as statusfile: # initialize status file\n",
    "        statusfile.write('Classifier finished: ' + datetime.now().strftime('%m-%d %H:%M:%S'))\n",
    "            "
   ]
  },
  {
   "cell_type": "markdown",
   "metadata": {},
   "source": [
    "## Train Individual Classifiers:"
   ]
  },
  {
   "cell_type": "code",
   "execution_count": 141,
   "metadata": {},
   "outputs": [],
   "source": [
    "params = {\n",
    "    'dt': {\n",
    "        'max_depth': [2, 4, 6, 8, 10, 12, 14, 16],\n",
    "        'criterion': ['gini', 'entropy'], \n",
    "        'min_samples_leaf': [3, 5, 7]\n",
    "    },\n",
    "    'rf': {\n",
    "        'n_estimators': [5, 10, 15, 20, 25],\n",
    "        'criterion': ['gini', 'entropy'],\n",
    "        'min_samples_leaf': [3, 5, 7]\n",
    "    },\n",
    "    'nb': {\n",
    "        'alpha': [.60, .80, 1.0, 1.2, 1.4]\n",
    "    },\n",
    "    'sv': {\n",
    "        'loss': ['hinge', 'squared_hinge'],\n",
    "        'tol': [.00008, .00010, .00012]\n",
    "    },\n",
    "    'gd': {\n",
    "        'loss': ['hinge', 'log', 'modified_huber'],\n",
    "        'penalty': ['l1', 'l2']\n",
    "    }\n",
    "}\n",
    "\n",
    "train_classifier('gd', ParameterGrid(params['gd'])) # train_classifier creates 28 processes... so plan accordingly"
   ]
  },
  {
   "cell_type": "code",
   "execution_count": null,
   "metadata": {},
   "outputs": [],
   "source": []
  }
 ],
 "metadata": {
  "kernelspec": {
   "display_name": "Python 3",
   "language": "python",
   "name": "python3"
  },
  "language_info": {
   "codemirror_mode": {
    "name": "ipython",
    "version": 3
   },
   "file_extension": ".py",
   "mimetype": "text/x-python",
   "name": "python",
   "nbconvert_exporter": "python",
   "pygments_lexer": "ipython3",
   "version": "3.7.3"
  }
 },
 "nbformat": 4,
 "nbformat_minor": 2
}
