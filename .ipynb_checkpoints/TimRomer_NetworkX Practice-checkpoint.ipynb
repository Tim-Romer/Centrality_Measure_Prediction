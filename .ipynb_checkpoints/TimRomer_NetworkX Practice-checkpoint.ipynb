{
 "cells": [
  {
   "cell_type": "markdown",
   "metadata": {},
   "source": [
    "<h1><center>Practicing NetworkX for Project F</center></h1>\n",
    "The <font color='red'>focus of this training is to</font>:\n",
    "\n",
    "* Introduce the __NetworkX__ python library to create networks.\n",
    "* Introduce the __matplotlib__ python library to visualize data.\n",
    "\n",
    "This is meant to be completed within 2 hours, or at most three if you're a bit slower. "
   ]
  },
  {
   "cell_type": "markdown",
   "metadata": {},
   "source": [
    "# 1. Pre-requisite: set up NetworkX\n",
    "We will use the library __NetworkX__. To know _whether_ the library is installed, you can simply try to import it and see whether you run a message. That is, in the code block below, run\n",
    "```\n",
    "import networkx as nx\n",
    "```\n",
    "\n",
    "__Note__ that NetworkX is usually imported with the alias 'nx'. This is done by most programmers, so the examples you'll see online may call functions from 'nx', and you should know that really means NetworkX."
   ]
  },
  {
   "cell_type": "code",
   "execution_count": 1,
   "metadata": {},
   "outputs": [],
   "source": [
    "import networkx as nx"
   ]
  },
  {
   "cell_type": "markdown",
   "metadata": {},
   "source": [
    "If the outcome is the error\n",
    "```\n",
    "No module named 'networkx'\n",
    "```\n",
    "Then it means you need to install it. To do so, use your Anaconda Prompt, type the following, and restart the Jupyter notebook:\n",
    "```\n",
    "pip install networkx\n",
    "```\n",
    "Otherwise it means that your system is set-up, and you can start working!"
   ]
  },
  {
   "cell_type": "markdown",
   "metadata": {},
   "source": [
    "# 2. Basics of NetworkX\n",
    "## 2.1 Creating graphs\n",
    "We have seen that there are different types of graphs, so there are different ways of creating them as well. The main options are summarized in the Table below.\n",
    "\n",
    "| Constructor | Directed?   | Multiple edges? | \n",
    "|------|------|--|\n",
    "|   Graph  | No| No |\n",
    "| DiGraph | Yes  | No |\n",
    "| MultiGraph | No | Yes |\n",
    "| MultiDiGraph | Yes | Yes |\n",
    "\n",
    "A graph is made of a set of __nodes__ and __edges__, which may also be called __vertices__ and __links__ respectively. Assuming that there is no isolated node, you can define a graph by listing its edges. For example, if I say \"make an edge between A and B\" then you know that A and B are nodes. Here is an example of how to create a graph:\n",
    "```\n",
    "import networkx as nx\n",
    "graph=nx.DiGraph()\n",
    "graph.add_edge(\"Tim\",\"Alex\")\n",
    "graph.add_edge(\"Alex\",\"Karan\")\n",
    "graph.add_edge(\"Jaxson\",\"Gavin\")\n",
    "graph.add_edge(\"Jaxson\",\"Tim\")\n",
    "graph.add_edge(\"Dat\",\"Alex\")\n",
    "graph.add_edge(\"Dat\",\"Minh\")\n",
    "graph.add_edge(\"Alex\",\"Tim\")\n",
    "graph.add_edge(\"Karan\",\"Alex\")\n",
    "```\n",
    "If some nodes are isolated, then you can add them one by one. It doesn't matter whether you add nodes or edges first. These lines could be written in any order. To add a few nodes, we'd go with:\n",
    "```\n",
    "graph.add_node(\"Philippe\")\n",
    "graph.add_node(\"Josh\")\n",
    "```"
   ]
  },
  {
   "cell_type": "markdown",
   "metadata": {},
   "source": [
    ">___Exercise 2.1___\n",
    ">\n",
    ">In the coding cell below, write the code to create a graph that includes you, a few friends, and some family members. Try to have at least 5 persons and 8 edge so it's not too tiny."
   ]
  },
  {
   "cell_type": "code",
   "execution_count": 2,
   "metadata": {},
   "outputs": [],
   "source": [
    "graph = nx.DiGraph()\n",
    "graph.add_edge(\"Tim\", \"Noah\")\n",
    "graph.add_edge(\"Tim\", \"Lynn\")\n",
    "graph.add_edge(\"Noah\", \"Sarah\")\n",
    "graph.add_edge(\"Tim\", \"Sarah\")\n",
    "graph.add_edge(\"Tim\", \"Emily\")\n",
    "graph.add_edge(\"Emily\", \"Cami\")\n",
    "graph.add_edge(\"Emily\", \"Cameron\")\n",
    "graph.add_edge(\"Noah\", \"Cami\")"
   ]
  },
  {
   "cell_type": "markdown",
   "metadata": {},
   "source": [
    "To know whether you created your graph, you can ask NetworkX to list all the edges and/or nodes that it contains. A network is essentially a data structure, so you can just ask to see what's inside. Here is what would happen with the graph given as example:"
   ]
  },
  {
   "cell_type": "code",
   "execution_count": 3,
   "metadata": {},
   "outputs": [
    {
     "data": {
      "text/plain": [
       "[('Tim', 'Noah'),\n",
       " ('Tim', 'Lynn'),\n",
       " ('Tim', 'Sarah'),\n",
       " ('Tim', 'Emily'),\n",
       " ('Noah', 'Sarah'),\n",
       " ('Noah', 'Cami'),\n",
       " ('Emily', 'Cami'),\n",
       " ('Emily', 'Cameron')]"
      ]
     },
     "execution_count": 3,
     "metadata": {},
     "output_type": "execute_result"
    }
   ],
   "source": [
    "list(graph.edges())"
   ]
  },
  {
   "cell_type": "code",
   "execution_count": 4,
   "metadata": {},
   "outputs": [
    {
     "data": {
      "text/plain": [
       "['Tim', 'Noah', 'Lynn', 'Sarah', 'Emily', 'Cami', 'Cameron']"
      ]
     },
     "execution_count": 4,
     "metadata": {},
     "output_type": "execute_result"
    }
   ],
   "source": [
    "list(graph.nodes())"
   ]
  },
  {
   "cell_type": "markdown",
   "metadata": {},
   "source": [
    "Use the cell below to test that your graph was correctly created."
   ]
  },
  {
   "cell_type": "code",
   "execution_count": 5,
   "metadata": {},
   "outputs": [
    {
     "data": {
      "text/plain": [
       "[('Tim', 'Noah'),\n",
       " ('Tim', 'Lynn'),\n",
       " ('Tim', 'Sarah'),\n",
       " ('Tim', 'Emily'),\n",
       " ('Noah', 'Sarah'),\n",
       " ('Noah', 'Cami'),\n",
       " ('Emily', 'Cami'),\n",
       " ('Emily', 'Cameron')]"
      ]
     },
     "execution_count": 5,
     "metadata": {},
     "output_type": "execute_result"
    }
   ],
   "source": [
    "list(graph.edges())"
   ]
  },
  {
   "cell_type": "code",
   "execution_count": 6,
   "metadata": {},
   "outputs": [
    {
     "data": {
      "text/plain": [
       "['Tim', 'Noah', 'Lynn', 'Sarah', 'Emily', 'Cami', 'Cameron']"
      ]
     },
     "execution_count": 6,
     "metadata": {},
     "output_type": "execute_result"
    }
   ],
   "source": [
    "list(graph.nodes())"
   ]
  },
  {
   "cell_type": "markdown",
   "metadata": {},
   "source": [
    "## 2.2 Visualizing graphs\n",
    "There are many ways to visualize a graph, that is, to see it in anything but a raw text format. The most common one is a __node-link diagram__ in which you could represent each node (typically as a circle) and draw a connection with the node(s) it links with (typically as a line for undirected graph and as arrow for directed graphs). An alternative is to display a matrix showing connectivity, which would be preferable if you're dealing with very large graphs but (i) requires a lot more practice, and (ii) needs advanced re-ordering algorithms so that the matrix reveals useful structures.\n",
    "\n",
    "You'll primarily work with __sparse graphs__ hence we employ a node-link diagram. This requires the __matplotlib__ library. <font color='red'>When you use the Jupyter Notebook (instead of Spyder or other IDEs), you need to start your cell with ```%matplotlib inline```. This says that the graphics will be shown within this cell, instead of spawning a new (and sometimes uncontrollable window).</font>\n",
    "\n",
    "Here is an example that will show the graph provided as example:"
   ]
  },
  {
   "cell_type": "code",
   "execution_count": 7,
   "metadata": {},
   "outputs": [
    {
     "name": "stderr",
     "output_type": "stream",
     "text": [
      "C:\\ProgramData\\Anaconda3\\lib\\site-packages\\networkx\\drawing\\nx_pylab.py:579: MatplotlibDeprecationWarning: \n",
      "The iterable function was deprecated in Matplotlib 3.1 and will be removed in 3.3. Use np.iterable instead.\n",
      "  if not cb.iterable(width):\n",
      "C:\\ProgramData\\Anaconda3\\lib\\site-packages\\networkx\\drawing\\nx_pylab.py:676: MatplotlibDeprecationWarning: \n",
      "The iterable function was deprecated in Matplotlib 3.1 and will be removed in 3.3. Use np.iterable instead.\n",
      "  if cb.iterable(node_size):  # many node sizes\n"
     ]
    },
    {
     "data": {
      "image/png": "[encoded data removed]",
      "text/plain": [
       "<Figure size 432x288 with 1 Axes>"
      ]
     },
     "metadata": {},
     "output_type": "display_data"
    }
   ],
   "source": [
    "%matplotlib inline\n",
    "nx.draw(graph)\n",
    "#There may be a warning because of a conflict of versions between matplotlib and networkx\n",
    "#It's not a problem as long as the graphics show up anyway..."
   ]
  },
  {
   "cell_type": "markdown",
   "metadata": {},
   "source": [
    "Drawing a node with no labels whatsoever (i.e. just looking at connected shapes) is fine when the graph is starting to be large and you wouldn't read the labels anyway. But for the small examples we're dealing with, it'd be much better to have labels. Many functions in networkX have arguments that let you do the most common tweaks you'd think of. These arguments have default values, and that's why you don't start writing them unless you need something specific. The code below uses two arguments to create a more informative graph:"
   ]
  },
  {
   "cell_type": "code",
   "execution_count": 8,
   "metadata": {},
   "outputs": [
    {
     "data": {
      "image/png": "[encoded data removed]",
      "text/plain": [
       "<Figure size 432x288 with 1 Axes>"
      ]
     },
     "metadata": {},
     "output_type": "display_data"
    }
   ],
   "source": [
    "%matplotlib inline\n",
    "nx.draw(graph, with_labels=True, font_weight='bold')"
   ]
  },
  {
   "cell_type": "markdown",
   "metadata": {},
   "source": [
    ">___Exercise 2.2___\n",
    ">\n",
    ">[Click here to open the NetworkX documentation on drawing](https://networkx.github.io/documentation/stable/tutorial.html#drawing-graphs). Display your graph using some of the options shown in the documentation."
   ]
  },
  {
   "cell_type": "code",
   "execution_count": 10,
   "metadata": {},
   "outputs": [
    {
     "data": {
      "image/png": "[encoded data removed]",
      "text/plain": [
       "<Figure size 432x288 with 1 Axes>"
      ]
     },
     "metadata": {},
     "output_type": "display_data"
    }
   ],
   "source": [
    "nx.draw(graph, with_labels=True, font_weight='bold')"
   ]
  },
  {
   "cell_type": "markdown",
   "metadata": {},
   "source": [
    "## 2.3 Accessing\n",
    "There are many ways in which you can access, and thus explore, the content of a graph. You can look through its (iterable) collection of edges or nodes, but that's usually tedious and/or unnecessary. For instance, this will find all the nodes whose names end with an 'n':"
   ]
  },
  {
   "cell_type": "code",
   "execution_count": 6,
   "metadata": {},
   "outputs": [
    {
     "name": "stdout",
     "output_type": "stream",
     "text": [
      "Karan\n",
      "Jaxson\n",
      "Gavin\n"
     ]
    }
   ],
   "source": [
    "for node in graph.nodes():\n",
    "    #'nodes' here are made of strings since we gave them all a name\n",
    "    if node[-1] == 'n': #to know if a string was ANYWHERE in the name, use \"string\" in node\n",
    "        print(node)"
   ]
  },
  {
   "cell_type": "markdown",
   "metadata": {},
   "source": [
    ">___Exercise 2.3.1___\n",
    ">\n",
    ">Using the template above, count the number of nodes whose name ends with a vowel. "
   ]
  },
  {
   "cell_type": "code",
   "execution_count": 12,
   "metadata": {},
   "outputs": [
    {
     "name": "stdout",
     "output_type": "stream",
     "text": [
      "1\n"
     ]
    }
   ],
   "source": [
    "vowels = ['a','e','i','o','u']\n",
    "count = 0\n",
    "for node in graph.nodes():\n",
    "    if node[-1] in vowels:\n",
    "        count += 1\n",
    "print(count)"
   ]
  },
  {
   "cell_type": "markdown",
   "metadata": {},
   "source": [
    ">___Exercise 2.3.2___\n",
    ">\n",
    ">By iterating over ```graph.edges()``` with a for loop, show the person who's the most connected overall."
   ]
  },
  {
   "cell_type": "code",
   "execution_count": 18,
   "metadata": {},
   "outputs": [
    {
     "name": "stdout",
     "output_type": "stream",
     "text": [
      "Tim\n"
     ]
    }
   ],
   "source": [
    "name = \"\"\n",
    "max_edges = 0\n",
    "for node in graph.nodes():\n",
    "    if max_edges < len(graph.edges(node)):\n",
    "        name = node\n",
    "        max_edges = len(graph.edges(node))\n",
    "print(name)"
   ]
  },
  {
   "cell_type": "markdown",
   "metadata": {},
   "source": [
    "Technically, you __don't have to write for/while__ to iterate over a collection. That's just one style of programming, known as imperative. You can also use map/lambda to do it. The advantage is that the code can run in parallel (more efficient) and its behavior can be automatically proven (as you're essentially writing mathematical functions), but the disadvantage is that it's harder to 'conceptually' think of maps/lambda at first. Here is how to do 2.3.1 in one line, without writing for/while:"
   ]
  },
  {
   "cell_type": "code",
   "execution_count": 18,
   "metadata": {},
   "outputs": [
    {
     "data": {
      "text/plain": [
       "4"
      ]
     },
     "execution_count": 18,
     "metadata": {},
     "output_type": "execute_result"
    }
   ],
   "source": [
    "sum(map(lambda x:(x[len(x)-1] in ['a','e','i','o','u']),graph.nodes()))"
   ]
  },
  {
   "cell_type": "markdown",
   "metadata": {},
   "source": [
    "If you're trying to __access a single element__ instead of iterating over the whole collection, then the subscript notation is convenient. Here are a few examples:"
   ]
  },
  {
   "cell_type": "code",
   "execution_count": 7,
   "metadata": {},
   "outputs": [
    {
     "data": {
      "text/plain": [
       "AtlasView({'Alex': {}})"
      ]
     },
     "execution_count": 7,
     "metadata": {},
     "output_type": "execute_result"
    }
   ],
   "source": [
    "graph[\"Karan\"] #show who Karan connects to. You can convert it to a list."
   ]
  },
  {
   "cell_type": "code",
   "execution_count": 8,
   "metadata": {},
   "outputs": [
    {
     "data": {
      "text/plain": [
       "{}"
      ]
     },
     "execution_count": 8,
     "metadata": {},
     "output_type": "execute_result"
    }
   ],
   "source": [
    "graph[\"Dat\"][\"Minh\"]#pokes the edge from Dat to Minh"
   ]
  },
  {
   "cell_type": "code",
   "execution_count": 9,
   "metadata": {},
   "outputs": [
    {
     "ename": "KeyError",
     "evalue": "'Minh'",
     "output_type": "error",
     "traceback": [
      "\u001b[1;31m---------------------------------------------------------------------------\u001b[0m",
      "\u001b[1;31mKeyError\u001b[0m                                  Traceback (most recent call last)",
      "\u001b[1;32m<ipython-input-9-2d92ac006074>\u001b[0m in \u001b[0;36m<module>\u001b[1;34m\u001b[0m\n\u001b[1;32m----> 1\u001b[1;33m \u001b[0mgraph\u001b[0m\u001b[1;33m[\u001b[0m\u001b[1;34m\"Jaxson\"\u001b[0m\u001b[1;33m]\u001b[0m\u001b[1;33m[\u001b[0m\u001b[1;34m\"Minh\"\u001b[0m\u001b[1;33m]\u001b[0m\u001b[1;31m#Careful. If the edge doesn't exist... ERROR!\u001b[0m\u001b[1;33m\u001b[0m\u001b[0m\n\u001b[0m",
      "\u001b[1;32mD:\\Anaconda3-520\\lib\\site-packages\\networkx\\classes\\coreviews.py\u001b[0m in \u001b[0;36m__getitem__\u001b[1;34m(self, key)\u001b[0m\n\u001b[0;32m     52\u001b[0m \u001b[1;33m\u001b[0m\u001b[0m\n\u001b[0;32m     53\u001b[0m     \u001b[1;32mdef\u001b[0m \u001b[0m__getitem__\u001b[0m\u001b[1;33m(\u001b[0m\u001b[0mself\u001b[0m\u001b[1;33m,\u001b[0m \u001b[0mkey\u001b[0m\u001b[1;33m)\u001b[0m\u001b[1;33m:\u001b[0m\u001b[1;33m\u001b[0m\u001b[0m\n\u001b[1;32m---> 54\u001b[1;33m         \u001b[1;32mreturn\u001b[0m \u001b[0mself\u001b[0m\u001b[1;33m.\u001b[0m\u001b[0m_atlas\u001b[0m\u001b[1;33m[\u001b[0m\u001b[0mkey\u001b[0m\u001b[1;33m]\u001b[0m\u001b[1;33m\u001b[0m\u001b[0m\n\u001b[0m\u001b[0;32m     55\u001b[0m \u001b[1;33m\u001b[0m\u001b[0m\n\u001b[0;32m     56\u001b[0m     \u001b[1;32mdef\u001b[0m \u001b[0mcopy\u001b[0m\u001b[1;33m(\u001b[0m\u001b[0mself\u001b[0m\u001b[1;33m)\u001b[0m\u001b[1;33m:\u001b[0m\u001b[1;33m\u001b[0m\u001b[0m\n",
      "\u001b[1;31mKeyError\u001b[0m: 'Minh'"
     ]
    }
   ],
   "source": [
    "graph[\"Jaxson\"][\"Minh\"]#Careful. If the edge doesn't exist... ERROR!"
   ]
  },
  {
   "cell_type": "markdown",
   "metadata": {},
   "source": [
    ">___Exercise 2.3.3___\n",
    ">\n",
    ">The following is a list of _possible_ edges that the graph _may_ have:\n",
    ">\n",
    ">```H={\"Tim\":[\"Jaxson\",\"Alex\",\"Dat\"], \"Alex\":[\"Karan\",\"Dat\",\"Tim\",\"Jaxson\"], \"Jaxson\":[\"Gavin\",\"Philippe\"]}```\n",
    ">Using the subscript notation, count how many of these edges are _actually_ in the graph."
   ]
  },
  {
   "cell_type": "code",
   "execution_count": 23,
   "metadata": {},
   "outputs": [
    {
     "data": {
      "text/plain": [
       "8"
      ]
     },
     "execution_count": 23,
     "metadata": {},
     "output_type": "execute_result"
    }
   ],
   "source": [
    "sum(map(lambda x : len(graph[x]), graph.nodes))"
   ]
  },
  {
   "cell_type": "markdown",
   "metadata": {},
   "source": [
    "# 3. Attributes\n",
    "## 3.1 Edge attributes\n",
    "In section 2, we created the bare structure: what are the nodes, which ones connect. However, the connections usually contain information. For instance, some social ties are stronger than others, some road networks have more capacity than others, etc. This is important because it changes who gets to be more central: an intersection may be more central when the incident roads have _high_ capacity. \n",
    "\n",
    "In general, you'd use the syntax ```G[startNode][endNode]['attribute'] = value```. Here are a few examples, where the value is whimsical but could be the 'strength' of the social tie (or weekly frequency of interaction):"
   ]
  },
  {
   "cell_type": "code",
   "execution_count": 11,
   "metadata": {},
   "outputs": [
    {
     "data": {
      "text/plain": [
       "[('Tim', 'Alex', {}),\n",
       " ('Alex', 'Karan', {'tie': 5}),\n",
       " ('Alex', 'Tim', {'tie': 3, 'works with': True}),\n",
       " ('Karan', 'Alex', {'tie': 5, 'works with': False}),\n",
       " ('Jaxson', 'Gavin', {}),\n",
       " ('Jaxson', 'Tim', {}),\n",
       " ('Dat', 'Alex', {}),\n",
       " ('Dat', 'Minh', {'tie': 7, 'works with': False})]"
      ]
     },
     "execution_count": 11,
     "metadata": {},
     "output_type": "execute_result"
    }
   ],
   "source": [
    "graph[\"Karan\"][\"Alex\"]['tie']=5\n",
    "graph[\"Alex\"][\"Karan\"]['tie']=5\n",
    "graph[\"Alex\"][\"Tim\"]['tie']=3\n",
    "graph[\"Dat\"][\"Minh\"]['tie']=7\n",
    "graph[\"Dat\"][\"Minh\"]['works with']=False\n",
    "graph[\"Karan\"][\"Alex\"]['works with']=False\n",
    "graph[\"Alex\"][\"Tim\"]['works with']=True\n",
    "#print the list of edges TOGETHER with the metadata\n",
    "list(graph.edges().data())"
   ]
  },
  {
   "cell_type": "markdown",
   "metadata": {},
   "source": [
    "Similarly, to remove an attribute, the syntax is ```del G[startNode][endNode]['attribute']```."
   ]
  },
  {
   "cell_type": "markdown",
   "metadata": {},
   "source": [
    ">___Exercise 3.1.1___\n",
    ">\n",
    ">Write a function that takes an attribute's name (e.g., 'tie', 'works with') and a graph as arguments and removes it from all the graph's edges."
   ]
  },
  {
   "cell_type": "code",
   "execution_count": 57,
   "metadata": {},
   "outputs": [],
   "source": [
    "def tie(graph, attr):\n",
    "    for node in list(graph.edges().data()):\n",
    "        del graph[node[0]][node[1]][attr]"
   ]
  },
  {
   "cell_type": "markdown",
   "metadata": {},
   "source": [
    ">___Exercise 3.1.2___\n",
    ">\n",
    ">Write a function that takes a graph as argument and, for each edge, randomly sets the attribute 'likes' to ```True``` or ```False```."
   ]
  },
  {
   "cell_type": "code",
   "execution_count": 49,
   "metadata": {},
   "outputs": [],
   "source": [
    "import random as rd\n",
    "def likes(graph):\n",
    "    for node in list(graph.edges().data()):\n",
    "        if rd.randint(0,2) == 1:\n",
    "            graph[node[0]][node[1]]['likes'] = True\n",
    "        else:\n",
    "            graph[node[0]][node[1]]['likes'] = False"
   ]
  },
  {
   "cell_type": "code",
   "execution_count": 61,
   "metadata": {},
   "outputs": [],
   "source": [
    "likes(graph)\n",
    "tie(graph,'likes')"
   ]
  },
  {
   "cell_type": "markdown",
   "metadata": {},
   "source": [
    "## 3.2 Node attributes\n",
    "Nodes can have attributes but __be careful as the syntax is a bit different from edges__:\n",
    "* ```G.nodes['nodeName']['attribute']='value'``` to set the value\n",
    "* ```del G.nodes['nodeName']['attribute']``` to remove the attribute\n",
    "Here are a few examples:"
   ]
  },
  {
   "cell_type": "code",
   "execution_count": null,
   "metadata": {},
   "outputs": [],
   "source": [
    "graph.nodes['Alex']['status']='innocent student'\n",
    "graph.nodes['Philippe']['status']='benevolent teacher'\n",
    "#prints nodes and their metadata\n",
    "print(graph.nodes().data())"
   ]
  },
  {
   "cell_type": "code",
   "execution_count": null,
   "metadata": {},
   "outputs": [],
   "source": [
    "del graph.nodes['Philippe']['status']\n",
    "print(graph.nodes().data())"
   ]
  },
  {
   "cell_type": "markdown",
   "metadata": {},
   "source": [
    ">___Exercise 3.2___\n",
    ">\n",
    ">For each person in your own graph, add an attribute 'likeable' and set its value as you think it should be set."
   ]
  },
  {
   "cell_type": "code",
   "execution_count": 66,
   "metadata": {},
   "outputs": [
    {
     "data": {
      "text/plain": [
       "[('Tim', {'likeable': 'Very'}),\n",
       " ('Noah', {'likeable': 'Somewhat'}),\n",
       " ('Lynn', {'likeable': 'Very'}),\n",
       " ('Sarah', {'likeable': 'Not at all'}),\n",
       " ('Emily', {'likeable': 'Very'}),\n",
       " ('Cami', {'likeable': 'Very'}),\n",
       " ('Cameron', {'likeable': 'Somewhat'})]"
      ]
     },
     "execution_count": 66,
     "metadata": {},
     "output_type": "execute_result"
    }
   ],
   "source": [
    "graph.nodes['Tim']['likeable'] = 'Very'\n",
    "graph.nodes['Emily']['likeable'] = 'Very'\n",
    "graph.nodes['Cameron']['likeable'] = 'Somewhat'\n",
    "graph.nodes['Cami']['likeable'] = 'Very'\n",
    "graph.nodes['Sarah']['likeable'] = 'Not at all'\n",
    "graph.nodes['Lynn']['likeable'] = 'Very'\n",
    "graph.nodes['Noah']['likeable'] = 'Somewhat'\n",
    "\n",
    "list(graph.nodes().data())"
   ]
  },
  {
   "cell_type": "markdown",
   "metadata": {},
   "source": [
    "# 4. Visualization\n",
    "While statistics are a proper proof, visualizations can be good to get the intuition before crunching the number, or to communicate results with a target audience. __Matplotlib__ can visualize graphs as well as a large variety of charts. For example, here's how you build a histogram:"
   ]
  },
  {
   "cell_type": "code",
   "execution_count": 55,
   "metadata": {},
   "outputs": [
    {
     "data": {
      "text/plain": [
       "(array([3., 0., 0., 1., 0., 0., 2., 0., 0., 4.]),\n",
       " array([1. , 1.3, 1.6, 1.9, 2.2, 2.5, 2.8, 3.1, 3.4, 3.7, 4. ]),\n",
       " <a list of 10 Patch objects>)"
      ]
     },
     "execution_count": 55,
     "metadata": {},
     "output_type": "execute_result"
    },
    {
     "data": {
      "image/png": "[encoded data removed]",
      "text/plain": [
       "<Figure size 432x288 with 1 Axes>"
      ]
     },
     "metadata": {},
     "output_type": "display_data"
    }
   ],
   "source": [
    "import matplotlib\n",
    "%matplotlib inline\n",
    "matplotlib.pyplot.hist([1,1,1,2,3,3,4,4,4,4]) #some random data"
   ]
  },
  {
   "cell_type": "markdown",
   "metadata": {},
   "source": [
    ">___Exercise 4.1___\n",
    ">\n",
    ">Plot the degree distribution in your graph as a histogram."
   ]
  },
  {
   "cell_type": "code",
   "execution_count": 74,
   "metadata": {},
   "outputs": [
    {
     "data": {
      "text/plain": [
       "(array([4., 0., 0., 0., 0., 2., 0., 0., 0., 1.]),\n",
       " array([0. , 0.4, 0.8, 1.2, 1.6, 2. , 2.4, 2.8, 3.2, 3.6, 4. ]),\n",
       " <a list of 10 Patch objects>)"
      ]
     },
     "execution_count": 74,
     "metadata": {},
     "output_type": "execute_result"
    },
    {
     "data": {
      "image/png": "[encoded data removed]",
      "text/plain": [
       "<Figure size 432x288 with 1 Axes>"
      ]
     },
     "metadata": {
      "needs_background": "light"
     },
     "output_type": "display_data"
    }
   ],
   "source": [
    "import matplotlib.pyplot as plt\n",
    "%matplotlib inline\n",
    "deg = list(map(lambda x : len(graph[x]), graph.nodes))\n",
    "plt.hist(deg)"
   ]
  },
  {
   "cell_type": "markdown",
   "metadata": {},
   "source": [
    "Similarly, you can access other typical types of charts such as scatterplots. A scatterplot will show points, so you need to provide a list of X and Y values as shown below:"
   ]
  },
  {
   "cell_type": "code",
   "execution_count": 58,
   "metadata": {},
   "outputs": [
    {
     "data": {
      "text/plain": [
       "<matplotlib.collections.PathCollection at 0x1c3d54508d0>"
      ]
     },
     "execution_count": 58,
     "metadata": {},
     "output_type": "execute_result"
    },
    {
     "data": {
      "image/png": "[encoded data removed]",
      "text/plain": [
       "<Figure size 432x288 with 1 Axes>"
      ]
     },
     "metadata": {},
     "output_type": "display_data"
    }
   ],
   "source": [
    "import matplotlib\n",
    "%matplotlib inline\n",
    "matplotlib.pyplot.scatter([1,2,5,6,9],[2.5,3,9,10,12])"
   ]
  },
  {
   "cell_type": "markdown",
   "metadata": {},
   "source": [
    "You can access [more examples by clicking here](https://matplotlib.org/api/_as_gen/matplotlib.pyplot.scatter.html)."
   ]
  },
  {
   "cell_type": "markdown",
   "metadata": {},
   "source": [
    ">___Exercise 4.2___\n",
    ">\n",
    ">Is there a relation between the length of someone's name and the number of people they know? Use a plot to give an intuition."
   ]
  },
  {
   "cell_type": "code",
   "execution_count": 83,
   "metadata": {},
   "outputs": [
    {
     "data": {
      "text/plain": [
       "<matplotlib.collections.PathCollection at 0x22fd8febc50>"
      ]
     },
     "execution_count": 83,
     "metadata": {},
     "output_type": "execute_result"
    },
    {
     "data": {
      "image/png": "[encoded data removed]",
      "text/plain": [
       "<Figure size 432x288 with 1 Axes>"
      ]
     },
     "metadata": {
      "needs_background": "light"
     },
     "output_type": "display_data"
    }
   ],
   "source": [
    "%matplotlib inline\n",
    "deg = list(map(lambda x : len(graph[x]), graph.nodes))\n",
    "length = list(map(lambda x : len(x), graph.nodes))\n",
    "plt.scatter(deg, length)"
   ]
  }
 ],
 "metadata": {
  "kernelspec": {
   "display_name": "Python 3",
   "language": "python",
   "name": "python3"
  },
  "language_info": {
   "codemirror_mode": {
    "name": "ipython",
    "version": 3
   },
   "file_extension": ".py",
   "mimetype": "text/x-python",
   "name": "python",
   "nbconvert_exporter": "python",
   "pygments_lexer": "ipython3",
   "version": "3.7.3"
  }
 },
 "nbformat": 4,
 "nbformat_minor": 2
}
